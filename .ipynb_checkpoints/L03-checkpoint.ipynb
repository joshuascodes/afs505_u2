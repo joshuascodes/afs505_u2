{
 "cells": [
  {
   "cell_type": "markdown",
   "metadata": {},
   "source": [
    "# Lesson 3 Practice: Pandas Part 1\n",
    "\n",
    "Use this notebook to follow along with the lesson in the corresponding lesson notebook: [L03-Pandas_Part1-Lesson.ipynb](./L03-Pandas_Part1-Lesson.ipynb).  "
   ]
  },
  {
   "cell_type": "markdown",
   "metadata": {},
   "source": [
    "## Instructions\n",
    "Follow along with the teaching material in the lesson. Throughout the tutorial sections labeled as \"Tasks\" are interspersed and indicated with the icon: ![Task](http://icons.iconarchive.com/icons/sbstnblnd/plateau/16/Apps-gnome-info-icon.png). You should follow the instructions provided in these sections by performing them in the practice notebook.  When the tutorial is completed you can turn in the final practice notebook. For each task, use the cell below it to write and test your code.  You may add additional cells for any task as needed or desired.  "
   ]
  },
  {
   "cell_type": "markdown",
   "metadata": {},
   "source": [
    "## Task 1a: Setup\n",
    "\n",
    "+ `numpy` as `np`\n",
    "+ `pandas` as `pd`\n"
   ]
  },
  {
   "cell_type": "code",
   "execution_count": 1,
   "metadata": {},
   "outputs": [],
   "source": [
    "import numpy as np\n",
    "import pandas as pd"
   ]
  },
  {
   "cell_type": "markdown",
   "metadata": {},
   "source": [
    "## Task 2a Create a `pd.Series` object\n",
    "\n",
    "+ Create a series of your own design."
   ]
  },
  {
   "cell_type": "code",
   "execution_count": 2,
   "metadata": {},
   "outputs": [
    {
     "name": "stdout",
     "output_type": "stream",
     "text": [
      "0     2\n",
      "1     4\n",
      "2     6\n",
      "3     8\n",
      "4    10\n",
      "dtype: int64\n"
     ]
    }
   ],
   "source": [
    "first_series = pd.Series([2,4,6,8,10])\n",
    "print(first_series)"
   ]
  },
  {
   "cell_type": "markdown",
   "metadata": {},
   "source": [
    "## Task 2b: Creating a DataFrame\n",
    "\n",
    "+ Create a pd.DataFrame object from a Python dictionary. Design the data as you like."
   ]
  },
  {
   "cell_type": "code",
   "execution_count": 5,
   "metadata": {},
   "outputs": [
    {
     "data": {
      "text/html": [
       "<div>\n",
       "<style scoped>\n",
       "    .dataframe tbody tr th:only-of-type {\n",
       "        vertical-align: middle;\n",
       "    }\n",
       "\n",
       "    .dataframe tbody tr th {\n",
       "        vertical-align: top;\n",
       "    }\n",
       "\n",
       "    .dataframe thead th {\n",
       "        text-align: right;\n",
       "    }\n",
       "</style>\n",
       "<table border=\"1\" class=\"dataframe\">\n",
       "  <thead>\n",
       "    <tr style=\"text-align: right;\">\n",
       "      <th></th>\n",
       "      <th>GDP % change in 2019</th>\n",
       "      <th>Interest rates in 2019</th>\n",
       "    </tr>\n",
       "  </thead>\n",
       "  <tbody>\n",
       "    <tr>\n",
       "      <td>0</td>\n",
       "      <td>3.0</td>\n",
       "      <td>2.00</td>\n",
       "    </tr>\n",
       "    <tr>\n",
       "      <td>1</td>\n",
       "      <td>2.0</td>\n",
       "      <td>1.75</td>\n",
       "    </tr>\n",
       "    <tr>\n",
       "      <td>2</td>\n",
       "      <td>2.1</td>\n",
       "      <td>1.50</td>\n",
       "    </tr>\n",
       "    <tr>\n",
       "      <td>3</td>\n",
       "      <td>2.1</td>\n",
       "      <td>NaN</td>\n",
       "    </tr>\n",
       "  </tbody>\n",
       "</table>\n",
       "</div>"
      ],
      "text/plain": [
       "   GDP % change in 2019  Interest rates in 2019\n",
       "0                   3.0                    2.00\n",
       "1                   2.0                    1.75\n",
       "2                   2.1                    1.50\n",
       "3                   2.1                     NaN"
      ]
     },
     "execution_count": 5,
     "metadata": {},
     "output_type": "execute_result"
    }
   ],
   "source": [
    "DF_dict = pd.DataFrame({'GDP % change in 2019': [3.0,2.0,2.1,2.1], 'Interest rates in 2019' :[2.0, 1.75, 1.50, np.nan]})\n",
    "DF_dict"
   ]
  },
  {
   "cell_type": "markdown",
   "metadata": {},
   "source": [
    "## Task 2c: Create DataFrame with labels\n",
    "\n",
    "+ Create a 10x5 dataframe of random numeric integers that follow a [Guassian (normal) Distribution](https://docs.scipy.org/doc/numpy-1.15.0/reference/generated/numpy.random.normal.html). \n",
    "  + Center the distrubtion at 0.85.\n",
    "  + We will use these values as assumed grades for a class of students\n",
    "+ Adjust the row indexes to be the names of hypothetical students.\n",
    "+ Adjust the columsn to be the names of hypothetical projects, homework, exam names, etc."
   ]
  },
  {
   "cell_type": "code",
   "execution_count": 57,
   "metadata": {},
   "outputs": [
    {
     "data": {
      "text/html": [
       "<div>\n",
       "<style scoped>\n",
       "    .dataframe tbody tr th:only-of-type {\n",
       "        vertical-align: middle;\n",
       "    }\n",
       "\n",
       "    .dataframe tbody tr th {\n",
       "        vertical-align: top;\n",
       "    }\n",
       "\n",
       "    .dataframe thead th {\n",
       "        text-align: right;\n",
       "    }\n",
       "</style>\n",
       "<table border=\"1\" class=\"dataframe\">\n",
       "  <thead>\n",
       "    <tr style=\"text-align: right;\">\n",
       "      <th></th>\n",
       "      <th>Midterm</th>\n",
       "      <th>Final Exam</th>\n",
       "      <th>Project</th>\n",
       "      <th>Homework</th>\n",
       "      <th>Extra Credit</th>\n",
       "    </tr>\n",
       "  </thead>\n",
       "  <tbody>\n",
       "    <tr>\n",
       "      <td>Joshua</td>\n",
       "      <td>0.924358</td>\n",
       "      <td>0.681314</td>\n",
       "      <td>0.415795</td>\n",
       "      <td>0.837278</td>\n",
       "      <td>0.879465</td>\n",
       "    </tr>\n",
       "    <tr>\n",
       "      <td>Ricky1</td>\n",
       "      <td>0.790275</td>\n",
       "      <td>0.782980</td>\n",
       "      <td>0.794166</td>\n",
       "      <td>0.640902</td>\n",
       "      <td>1.153082</td>\n",
       "    </tr>\n",
       "    <tr>\n",
       "      <td>Ricky2</td>\n",
       "      <td>0.531315</td>\n",
       "      <td>0.499932</td>\n",
       "      <td>1.013948</td>\n",
       "      <td>0.906259</td>\n",
       "      <td>0.853207</td>\n",
       "    </tr>\n",
       "    <tr>\n",
       "      <td>Evan</td>\n",
       "      <td>0.774766</td>\n",
       "      <td>0.682391</td>\n",
       "      <td>0.748156</td>\n",
       "      <td>0.758017</td>\n",
       "      <td>0.719278</td>\n",
       "    </tr>\n",
       "    <tr>\n",
       "      <td>Gunnar</td>\n",
       "      <td>0.740262</td>\n",
       "      <td>0.769576</td>\n",
       "      <td>0.959184</td>\n",
       "      <td>0.829333</td>\n",
       "      <td>0.813841</td>\n",
       "    </tr>\n",
       "    <tr>\n",
       "      <td>Dane</td>\n",
       "      <td>0.917802</td>\n",
       "      <td>1.194416</td>\n",
       "      <td>0.909970</td>\n",
       "      <td>1.072331</td>\n",
       "      <td>0.899603</td>\n",
       "    </tr>\n",
       "    <tr>\n",
       "      <td>Student 7</td>\n",
       "      <td>0.842724</td>\n",
       "      <td>0.339088</td>\n",
       "      <td>0.833490</td>\n",
       "      <td>0.730332</td>\n",
       "      <td>0.892574</td>\n",
       "    </tr>\n",
       "    <tr>\n",
       "      <td>Student 8</td>\n",
       "      <td>1.070380</td>\n",
       "      <td>0.764092</td>\n",
       "      <td>1.076350</td>\n",
       "      <td>0.911246</td>\n",
       "      <td>0.586072</td>\n",
       "    </tr>\n",
       "    <tr>\n",
       "      <td>Student 9</td>\n",
       "      <td>0.641720</td>\n",
       "      <td>0.721592</td>\n",
       "      <td>0.757965</td>\n",
       "      <td>0.630966</td>\n",
       "      <td>1.068818</td>\n",
       "    </tr>\n",
       "    <tr>\n",
       "      <td>Student 10</td>\n",
       "      <td>0.491555</td>\n",
       "      <td>0.624097</td>\n",
       "      <td>0.578749</td>\n",
       "      <td>0.822275</td>\n",
       "      <td>0.953479</td>\n",
       "    </tr>\n",
       "  </tbody>\n",
       "</table>\n",
       "</div>"
      ],
      "text/plain": [
       "             Midterm  Final Exam   Project  Homework  Extra Credit\n",
       "Joshua      0.924358    0.681314  0.415795  0.837278      0.879465\n",
       "Ricky1      0.790275    0.782980  0.794166  0.640902      1.153082\n",
       "Ricky2      0.531315    0.499932  1.013948  0.906259      0.853207\n",
       "Evan        0.774766    0.682391  0.748156  0.758017      0.719278\n",
       "Gunnar      0.740262    0.769576  0.959184  0.829333      0.813841\n",
       "Dane        0.917802    1.194416  0.909970  1.072331      0.899603\n",
       " Student 7  0.842724    0.339088  0.833490  0.730332      0.892574\n",
       "Student 8   1.070380    0.764092  1.076350  0.911246      0.586072\n",
       "Student 9   0.641720    0.721592  0.757965  0.630966      1.068818\n",
       "Student 10  0.491555    0.624097  0.578749  0.822275      0.953479"
      ]
     },
     "execution_count": 57,
     "metadata": {},
     "output_type": "execute_result"
    }
   ],
   "source": [
    "names = (\"Joshua\", \"Ricky1\", \"Ricky2\",\"Evan\", \"Gunnar\", \"Dane\", \" Student 7\", \"Student 8\", \"Student 9\", \"Student 10\" )\n",
    "AFSgrades = pd.DataFrame(np.random.normal(0.85, .2, (10, 5)), index=names, columns=('Midterm','Final Exam','Project','Homework','Extra Credit'))\n",
    "AFSgrades"
   ]
  },
  {
   "cell_type": "markdown",
   "metadata": {},
   "source": [
    "## Task 3a: Import the iris.csv file\n",
    "\n",
    "+ Import the iris dataset.\n",
    "+ Take a look at the `pd.read_csv` online documentation. Write example code in a Markup cell for how you would import this file if it were tab-delimited."
   ]
  },
  {
   "cell_type": "code",
   "execution_count": 73,
   "metadata": {},
   "outputs": [],
   "source": [
    "# Must put a r before path because this is converts my normal string to a raw string\n",
    "iris = pd.read_csv(r\"C:\\Users\\Joshu\\afs505_u2\\iris.csv\")\n"
   ]
  },
  {
   "cell_type": "markdown",
   "metadata": {},
   "source": [
    "## Task 4a: Explore Data\n",
    "\n",
    " + Use `head`, `tail` and `sample` with the iris dataset.\n",
    " + Do the same with the dataset you created in task 2c."
   ]
  },
  {
   "cell_type": "code",
   "execution_count": 103,
   "metadata": {},
   "outputs": [
    {
     "data": {
      "text/html": [
       "<div>\n",
       "<style scoped>\n",
       "    .dataframe tbody tr th:only-of-type {\n",
       "        vertical-align: middle;\n",
       "    }\n",
       "\n",
       "    .dataframe tbody tr th {\n",
       "        vertical-align: top;\n",
       "    }\n",
       "\n",
       "    .dataframe thead th {\n",
       "        text-align: right;\n",
       "    }\n",
       "</style>\n",
       "<table border=\"1\" class=\"dataframe\">\n",
       "  <thead>\n",
       "    <tr style=\"text-align: right;\">\n",
       "      <th></th>\n",
       "      <th>Midterm</th>\n",
       "      <th>Final Exam</th>\n",
       "      <th>Project</th>\n",
       "      <th>Homework</th>\n",
       "      <th>Extra Credit</th>\n",
       "    </tr>\n",
       "  </thead>\n",
       "  <tbody>\n",
       "    <tr>\n",
       "      <td>Dane</td>\n",
       "      <td>0.917802</td>\n",
       "      <td>1.194416</td>\n",
       "      <td>0.909970</td>\n",
       "      <td>1.072331</td>\n",
       "      <td>0.899603</td>\n",
       "    </tr>\n",
       "    <tr>\n",
       "      <td>Student 7</td>\n",
       "      <td>0.842724</td>\n",
       "      <td>0.339088</td>\n",
       "      <td>0.833490</td>\n",
       "      <td>0.730332</td>\n",
       "      <td>0.892574</td>\n",
       "    </tr>\n",
       "    <tr>\n",
       "      <td>Student 8</td>\n",
       "      <td>1.070380</td>\n",
       "      <td>0.764092</td>\n",
       "      <td>1.076350</td>\n",
       "      <td>0.911246</td>\n",
       "      <td>0.586072</td>\n",
       "    </tr>\n",
       "    <tr>\n",
       "      <td>Student 9</td>\n",
       "      <td>0.641720</td>\n",
       "      <td>0.721592</td>\n",
       "      <td>0.757965</td>\n",
       "      <td>0.630966</td>\n",
       "      <td>1.068818</td>\n",
       "    </tr>\n",
       "    <tr>\n",
       "      <td>Student 10</td>\n",
       "      <td>0.491555</td>\n",
       "      <td>0.624097</td>\n",
       "      <td>0.578749</td>\n",
       "      <td>0.822275</td>\n",
       "      <td>0.953479</td>\n",
       "    </tr>\n",
       "  </tbody>\n",
       "</table>\n",
       "</div>"
      ],
      "text/plain": [
       "             Midterm  Final Exam   Project  Homework  Extra Credit\n",
       "Dane        0.917802    1.194416  0.909970  1.072331      0.899603\n",
       " Student 7  0.842724    0.339088  0.833490  0.730332      0.892574\n",
       "Student 8   1.070380    0.764092  1.076350  0.911246      0.586072\n",
       "Student 9   0.641720    0.721592  0.757965  0.630966      1.068818\n",
       "Student 10  0.491555    0.624097  0.578749  0.822275      0.953479"
      ]
     },
     "execution_count": 103,
     "metadata": {},
     "output_type": "execute_result"
    }
   ],
   "source": [
    "iris.head(10)\n",
    "iris.tail(10)\n",
    "\n",
    "AFSgrades.head()\n",
    "AFSgrades.tail()\n"
   ]
  },
  {
   "cell_type": "markdown",
   "metadata": {},
   "source": [
    "## Task 5a: Viewing columns and rows\n",
    "\n",
    "+ Display the columns and indexes of the iris dataset.\n",
    "+ Do the same with the dataset you created in Task 2c."
   ]
  },
  {
   "cell_type": "code",
   "execution_count": 117,
   "metadata": {},
   "outputs": [
    {
     "data": {
      "text/html": [
       "<div>\n",
       "<style scoped>\n",
       "    .dataframe tbody tr th:only-of-type {\n",
       "        vertical-align: middle;\n",
       "    }\n",
       "\n",
       "    .dataframe tbody tr th {\n",
       "        vertical-align: top;\n",
       "    }\n",
       "\n",
       "    .dataframe thead th {\n",
       "        text-align: right;\n",
       "    }\n",
       "</style>\n",
       "<table border=\"1\" class=\"dataframe\">\n",
       "  <thead>\n",
       "    <tr style=\"text-align: right;\">\n",
       "      <th></th>\n",
       "      <th>sepal_length</th>\n",
       "      <th>sepal_width</th>\n",
       "      <th>petal_length</th>\n",
       "      <th>petal_width</th>\n",
       "      <th>species</th>\n",
       "    </tr>\n",
       "  </thead>\n",
       "  <tbody>\n",
       "    <tr>\n",
       "      <td>24</td>\n",
       "      <td>4.8</td>\n",
       "      <td>3.4</td>\n",
       "      <td>1.9</td>\n",
       "      <td>0.2</td>\n",
       "      <td>setosa</td>\n",
       "    </tr>\n",
       "    <tr>\n",
       "      <td>136</td>\n",
       "      <td>6.3</td>\n",
       "      <td>3.4</td>\n",
       "      <td>5.6</td>\n",
       "      <td>2.4</td>\n",
       "      <td>virginica</td>\n",
       "    </tr>\n",
       "    <tr>\n",
       "      <td>26</td>\n",
       "      <td>5.0</td>\n",
       "      <td>3.4</td>\n",
       "      <td>1.6</td>\n",
       "      <td>0.4</td>\n",
       "      <td>setosa</td>\n",
       "    </tr>\n",
       "    <tr>\n",
       "      <td>138</td>\n",
       "      <td>6.0</td>\n",
       "      <td>3.0</td>\n",
       "      <td>4.8</td>\n",
       "      <td>1.8</td>\n",
       "      <td>virginica</td>\n",
       "    </tr>\n",
       "    <tr>\n",
       "      <td>72</td>\n",
       "      <td>6.3</td>\n",
       "      <td>2.5</td>\n",
       "      <td>4.9</td>\n",
       "      <td>1.5</td>\n",
       "      <td>versicolor</td>\n",
       "    </tr>\n",
       "  </tbody>\n",
       "</table>\n",
       "</div>"
      ],
      "text/plain": [
       "     sepal_length  sepal_width  petal_length  petal_width     species\n",
       "24            4.8          3.4           1.9          0.2      setosa\n",
       "136           6.3          3.4           5.6          2.4   virginica\n",
       "26            5.0          3.4           1.6          0.4      setosa\n",
       "138           6.0          3.0           4.8          1.8   virginica\n",
       "72            6.3          2.5           4.9          1.5  versicolor"
      ]
     },
     "execution_count": 117,
     "metadata": {},
     "output_type": "execute_result"
    }
   ],
   "source": [
    "iris\n",
    "AFSgrades\n",
    "iris.sample(5) \n"
   ]
  },
  {
   "cell_type": "markdown",
   "metadata": {},
   "source": [
    "## Task 5b: Get Values\n",
    "\n",
    "+ Check the version of `pandas` you have \n",
    "+ Use the appropriate method to convert the iris data to a dictionary.\n",
    "+ Do the same with the dataset you created in Task 2c.\n"
   ]
  },
  {
   "cell_type": "code",
   "execution_count": 113,
   "metadata": {},
   "outputs": [
    {
     "name": "stdout",
     "output_type": "stream",
     "text": [
      "0.25.1\n"
     ]
    },
    {
     "data": {
      "text/html": [
       "<div>\n",
       "<style scoped>\n",
       "    .dataframe tbody tr th:only-of-type {\n",
       "        vertical-align: middle;\n",
       "    }\n",
       "\n",
       "    .dataframe tbody tr th {\n",
       "        vertical-align: top;\n",
       "    }\n",
       "\n",
       "    .dataframe thead th {\n",
       "        text-align: right;\n",
       "    }\n",
       "</style>\n",
       "<table border=\"1\" class=\"dataframe\">\n",
       "  <thead>\n",
       "    <tr style=\"text-align: right;\">\n",
       "      <th></th>\n",
       "      <th>Midterm</th>\n",
       "      <th>Final Exam</th>\n",
       "      <th>Project</th>\n",
       "      <th>Homework</th>\n",
       "      <th>Extra Credit</th>\n",
       "    </tr>\n",
       "  </thead>\n",
       "  <tbody>\n",
       "    <tr>\n",
       "      <td>count</td>\n",
       "      <td>10.000000</td>\n",
       "      <td>10.000000</td>\n",
       "      <td>10.000000</td>\n",
       "      <td>10.000000</td>\n",
       "      <td>10.000000</td>\n",
       "    </tr>\n",
       "    <tr>\n",
       "      <td>mean</td>\n",
       "      <td>0.772516</td>\n",
       "      <td>0.705948</td>\n",
       "      <td>0.808777</td>\n",
       "      <td>0.813894</td>\n",
       "      <td>0.881942</td>\n",
       "    </tr>\n",
       "    <tr>\n",
       "      <td>std</td>\n",
       "      <td>0.180555</td>\n",
       "      <td>0.220378</td>\n",
       "      <td>0.200273</td>\n",
       "      <td>0.132978</td>\n",
       "      <td>0.161056</td>\n",
       "    </tr>\n",
       "    <tr>\n",
       "      <td>min</td>\n",
       "      <td>0.491555</td>\n",
       "      <td>0.339088</td>\n",
       "      <td>0.415795</td>\n",
       "      <td>0.630966</td>\n",
       "      <td>0.586072</td>\n",
       "    </tr>\n",
       "    <tr>\n",
       "      <td>25%</td>\n",
       "      <td>0.666355</td>\n",
       "      <td>0.638402</td>\n",
       "      <td>0.750608</td>\n",
       "      <td>0.737253</td>\n",
       "      <td>0.823682</td>\n",
       "    </tr>\n",
       "    <tr>\n",
       "      <td>50%</td>\n",
       "      <td>0.782520</td>\n",
       "      <td>0.701991</td>\n",
       "      <td>0.813828</td>\n",
       "      <td>0.825804</td>\n",
       "      <td>0.886019</td>\n",
       "    </tr>\n",
       "    <tr>\n",
       "      <td>75%</td>\n",
       "      <td>0.899032</td>\n",
       "      <td>0.768205</td>\n",
       "      <td>0.946880</td>\n",
       "      <td>0.889013</td>\n",
       "      <td>0.940010</td>\n",
       "    </tr>\n",
       "    <tr>\n",
       "      <td>max</td>\n",
       "      <td>1.070380</td>\n",
       "      <td>1.194416</td>\n",
       "      <td>1.076350</td>\n",
       "      <td>1.072331</td>\n",
       "      <td>1.153082</td>\n",
       "    </tr>\n",
       "  </tbody>\n",
       "</table>\n",
       "</div>"
      ],
      "text/plain": [
       "         Midterm  Final Exam    Project   Homework  Extra Credit\n",
       "count  10.000000   10.000000  10.000000  10.000000     10.000000\n",
       "mean    0.772516    0.705948   0.808777   0.813894      0.881942\n",
       "std     0.180555    0.220378   0.200273   0.132978      0.161056\n",
       "min     0.491555    0.339088   0.415795   0.630966      0.586072\n",
       "25%     0.666355    0.638402   0.750608   0.737253      0.823682\n",
       "50%     0.782520    0.701991   0.813828   0.825804      0.886019\n",
       "75%     0.899032    0.768205   0.946880   0.889013      0.940010\n",
       "max     1.070380    1.194416   1.076350   1.072331      1.153082"
      ]
     },
     "execution_count": 113,
     "metadata": {},
     "output_type": "execute_result"
    }
   ],
   "source": [
    "print(pd.__version__)\n",
    "iris_dict = pd.read_csv(r\"C:\\Users\\Joshu\\afs505_u2\\iris.csv\", index_col=0, squeeze=True).to_dict()\n",
    "iris_dict \n",
    "\n",
    "\n",
    "#didn't work with my DataFrame\n",
    "AFS_dict=AFSgrades.to_dict()\n",
    "AFS_dict\n",
    "\n",
    "iris.describe()\n",
    "AFSgrades.describe()"
   ]
  },
  {
   "cell_type": "markdown",
   "metadata": {},
   "source": [
    "## Task 5c: Using `loc`\n",
    "\n",
    "+ Use any iris dataframe to:\n",
    "  + Select a row slice with `loc`.\n",
    "  + Select a row and column slice with `loc`.\n",
    "  + Take a look at the [Pandas documentation for the `at` selector](https://pandas.pydata.org/pandas-docs/stable/reference/api/pandas.DataFrame.at.html). Use what you learn there to select a single item with Pandas `at` accessor."
   ]
  },
  {
   "cell_type": "code",
   "execution_count": 142,
   "metadata": {},
   "outputs": [
    {
     "data": {
      "text/html": [
       "<div>\n",
       "<style scoped>\n",
       "    .dataframe tbody tr th:only-of-type {\n",
       "        vertical-align: middle;\n",
       "    }\n",
       "\n",
       "    .dataframe tbody tr th {\n",
       "        vertical-align: top;\n",
       "    }\n",
       "\n",
       "    .dataframe thead th {\n",
       "        text-align: right;\n",
       "    }\n",
       "</style>\n",
       "<table border=\"1\" class=\"dataframe\">\n",
       "  <thead>\n",
       "    <tr style=\"text-align: right;\">\n",
       "      <th></th>\n",
       "      <th>sepal_width</th>\n",
       "      <th>petal_width</th>\n",
       "    </tr>\n",
       "  </thead>\n",
       "  <tbody>\n",
       "    <tr>\n",
       "      <td>4</td>\n",
       "      <td>3.6</td>\n",
       "      <td>0.2</td>\n",
       "    </tr>\n",
       "    <tr>\n",
       "      <td>5</td>\n",
       "      <td>3.9</td>\n",
       "      <td>0.4</td>\n",
       "    </tr>\n",
       "    <tr>\n",
       "      <td>6</td>\n",
       "      <td>3.4</td>\n",
       "      <td>0.3</td>\n",
       "    </tr>\n",
       "  </tbody>\n",
       "</table>\n",
       "</div>"
      ],
      "text/plain": [
       "   sepal_width  petal_width\n",
       "4          3.6          0.2\n",
       "5          3.9          0.4\n",
       "6          3.4          0.3"
      ]
     },
     "execution_count": 142,
     "metadata": {},
     "output_type": "execute_result"
    }
   ],
   "source": [
    "#df.loc[row_start:row_end, column_start:column_end] <-- proper syntax \n",
    "\n",
    "iris.loc[0:0]     # Gets the first row\n",
    "iris.loc[0:5]    # Gets the first 5 rows\n",
    "\n",
    "\n",
    "iris_df.loc[[4,6], ['sepal_width', 'petal_width']]   #Grabs specific columns\n",
    "iris_df.loc[4:6, ['sepal_width', 'petal_width']]     #Grabs a range of columns"
   ]
  },
  {
   "cell_type": "markdown",
   "metadata": {},
   "source": [
    "## Task 5d: Using `iloc`\n",
    "\n",
    "+ Use any iris dataframe to:    \n",
    "    + Select a row slice with `iloc`.\n",
    "    + Select a row and column slice with `iloc`.\n",
    "    + Take a look at the [Pandas documentation for the `iat` selector](https://pandas.pydata.org/pandas-docs/stable/reference/api/pandas.DataFrame.iat.html). Use what you learn there to select a single item with Pandas `iat` accessor.\n",
    "\n"
   ]
  },
  {
   "cell_type": "code",
   "execution_count": 141,
   "metadata": {},
   "outputs": [
    {
     "data": {
      "text/plain": [
       "Index(['sepal_length', 'sepal_width', 'petal_length', 'petal_width',\n",
       "       'species'],\n",
       "      dtype='object')"
      ]
     },
     "execution_count": 141,
     "metadata": {},
     "output_type": "execute_result"
    }
   ],
   "source": [
    "#iris.iloc[:,0]          #Grabs the first column\n",
    "#iris.iloc[3]            #Grabs the first 3 rows\n",
    "\n",
    "iris.iloc[10:15, :-3]    #Grabs rows 10-15 and excludes the last 3 columns\n",
    "#iris.columns           #Gets column names\n",
    "\n",
    "iris_df.loc[4:6, 'sepal_width': 'petal_width']"
   ]
  },
  {
   "cell_type": "markdown",
   "metadata": {},
   "source": [
    "## Task 5e: Boolean Indexing\n",
    "\n",
    "+ Create subsets of the iris dataset using boolean indexes that:\n",
    "    + Use one boolean operator.\n",
    "    + Use two boolean operators.\n",
    "\n"
   ]
  },
  {
   "cell_type": "code",
   "execution_count": 158,
   "metadata": {},
   "outputs": [
    {
     "data": {
      "text/html": [
       "<div>\n",
       "<style scoped>\n",
       "    .dataframe tbody tr th:only-of-type {\n",
       "        vertical-align: middle;\n",
       "    }\n",
       "\n",
       "    .dataframe tbody tr th {\n",
       "        vertical-align: top;\n",
       "    }\n",
       "\n",
       "    .dataframe thead th {\n",
       "        text-align: right;\n",
       "    }\n",
       "</style>\n",
       "<table border=\"1\" class=\"dataframe\">\n",
       "  <thead>\n",
       "    <tr style=\"text-align: right;\">\n",
       "      <th></th>\n",
       "      <th>sepal_width</th>\n",
       "      <th>petal_length</th>\n",
       "    </tr>\n",
       "  </thead>\n",
       "  <tbody>\n",
       "    <tr>\n",
       "      <td>1</td>\n",
       "      <td>True</td>\n",
       "      <td>False</td>\n",
       "    </tr>\n",
       "    <tr>\n",
       "      <td>2</td>\n",
       "      <td>True</td>\n",
       "      <td>False</td>\n",
       "    </tr>\n",
       "    <tr>\n",
       "      <td>3</td>\n",
       "      <td>True</td>\n",
       "      <td>True</td>\n",
       "    </tr>\n",
       "    <tr>\n",
       "      <td>4</td>\n",
       "      <td>True</td>\n",
       "      <td>False</td>\n",
       "    </tr>\n",
       "    <tr>\n",
       "      <td>5</td>\n",
       "      <td>True</td>\n",
       "      <td>True</td>\n",
       "    </tr>\n",
       "    <tr>\n",
       "      <td>6</td>\n",
       "      <td>True</td>\n",
       "      <td>False</td>\n",
       "    </tr>\n",
       "    <tr>\n",
       "      <td>7</td>\n",
       "      <td>True</td>\n",
       "      <td>True</td>\n",
       "    </tr>\n",
       "    <tr>\n",
       "      <td>8</td>\n",
       "      <td>True</td>\n",
       "      <td>False</td>\n",
       "    </tr>\n",
       "    <tr>\n",
       "      <td>9</td>\n",
       "      <td>True</td>\n",
       "      <td>True</td>\n",
       "    </tr>\n",
       "    <tr>\n",
       "      <td>10</td>\n",
       "      <td>True</td>\n",
       "      <td>True</td>\n",
       "    </tr>\n",
       "  </tbody>\n",
       "</table>\n",
       "</div>"
      ],
      "text/plain": [
       "    sepal_width  petal_length\n",
       "1          True         False\n",
       "2          True         False\n",
       "3          True          True\n",
       "4          True         False\n",
       "5          True          True\n",
       "6          True         False\n",
       "7          True          True\n",
       "8          True         False\n",
       "9          True          True\n",
       "10         True          True"
      ]
     },
     "execution_count": 158,
     "metadata": {},
     "output_type": "execute_result"
    }
   ],
   "source": [
    "#iris_df.loc[[4,6], ['sepal_width', 'petal_width']]   #Grabs specific columns\n",
    "#iris_df.loc[4:6, ['sepal_width', 'petal_width']]     #Grabs a range of columns\n",
    "\n",
    "\n",
    "\n",
    "subset = iris.loc[1:10, ['sepal_width', 'petal_length']] > 1.4\n",
    "subset                                                             #Nice job"
   ]
  }
 ],
 "metadata": {
  "kernelspec": {
   "display_name": "Python 3",
   "language": "python",
   "name": "python3"
  },
  "language_info": {
   "codemirror_mode": {
    "name": "ipython",
    "version": 3
   },
   "file_extension": ".py",
   "mimetype": "text/x-python",
   "name": "python",
   "nbconvert_exporter": "python",
   "pygments_lexer": "ipython3",
   "version": "3.7.4"
  }
 },
 "nbformat": 4,
 "nbformat_minor": 4
}
