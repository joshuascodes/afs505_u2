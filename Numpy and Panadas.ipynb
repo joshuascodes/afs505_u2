{
 "cells": [
  {
   "cell_type": "markdown",
   "metadata": {},
   "source": [
    "# Numpy.  Part 1\n",
    "### Arrays"
   ]
  },
  {
   "cell_type": "markdown",
   "metadata": {},
   "source": [
    "Use the following attributes:\n",
    "    ndim,\n",
    "    shape,\n",
    "    size,\n",
    "    dtype,\n",
    "    itemsize,\n",
    "    data,\n",
    "    nbytes,"
   ]
  },
  {
   "cell_type": "code",
   "execution_count": 3,
   "metadata": {},
   "outputs": [
    {
     "name": "stdout",
     "output_type": "stream",
     "text": [
      "1\n",
      "(3,)\n",
      "3\n",
      "int32\n",
      "4\n",
      "<memory at 0x000002CC8852D648>\n",
      "12\n"
     ]
    }
   ],
   "source": [
    "import numpy as np\n",
    "\n",
    "fun_array = np.array([1,3,5])\n",
    "\n",
    "print(fun_array.ndim)\n",
    "print(fun_array.shape)\n",
    "print(fun_array.size)\n",
    "print(fun_array.dtype)\n",
    "print(fun_array.itemsize)\n",
    "print(fun_array.data)\n",
    "print(fun_array.nbytes)\n"
   ]
  },
  {
   "cell_type": "markdown",
   "metadata": {},
   "source": [
    "### Initializing Arrays"
   ]
  },
  {
   "cell_type": "code",
   "execution_count": 4,
   "metadata": {},
   "outputs": [
    {
     "name": "stdout",
     "output_type": "stream",
     "text": [
      "[[1. 1. 1. 1. 1. 1.]\n",
      " [1. 1. 1. 1. 1. 1.]]\n",
      "[[0. 0.]\n",
      " [0. 0.]]\n",
      "[[inf inf inf inf inf]\n",
      " [inf inf inf inf inf]\n",
      " [inf inf inf inf inf]\n",
      " [inf inf inf inf inf]\n",
      " [inf inf inf inf inf]\n",
      " [inf inf inf inf inf]\n",
      " [inf inf inf inf inf]\n",
      " [inf inf inf inf inf]\n",
      " [inf inf inf inf inf]\n",
      " [inf inf inf inf inf]]\n",
      "[ 0  1  2  3  4  5  6  7  8  9 10]\n"
     ]
    }
   ],
   "source": [
    "# Creates a 2x6 array filled with 1's.\n",
    "arrayof1s = np.ones((2,6))\n",
    "print(arrayof1s)\n",
    "\n",
    "## Create an array of zeros that is size 2x2.\n",
    "arrayzeros = np.zeros((2,2))\n",
    "print(arrayzeros)\n",
    "\n",
    "## Fill array with with a specified values. Idk if you can do strings. \n",
    "arrayfilled = np.full((10, 5), np.inf)\n",
    "print(arrayfilled)\n",
    "\n",
    "## Returns a new array of evenly spaced values within a given interval\n",
    "## arange uses the interval distance as 1 unless otherwise specified\n",
    "arrayarange = np.arange(0,11)\n",
    "print(arrayarange)"
   ]
  },
  {
   "cell_type": "markdown",
   "metadata": {},
   "source": [
    "### Math/Stats Aggregate Functions"
   ]
  },
  {
   "cell_type": "markdown",
   "metadata": {},
   "source": [
    "Use the following aggregation functions: sum, minimum, maximum, cumsum, mean, np.corrcoef, np.std, np.var"
   ]
  },
  {
   "cell_type": "code",
   "execution_count": 5,
   "metadata": {},
   "outputs": [
    {
     "name": "stdout",
     "output_type": "stream",
     "text": [
      "100\n",
      "237.9736880881287\n",
      "randoos\n",
      "[[5.78048814 4.97898207 8.87506751 6.62766818 1.42353912]\n",
      " [8.53651005 3.96018997 9.38580786 2.02603382 4.45962481]\n",
      " [3.66201338 4.92034481 1.82068023 2.83282393 8.42200081]\n",
      " [5.91377323 7.31975271 2.25209738 8.91610567 8.88432914]\n",
      " [9.24652186 3.52628094 7.86438979 3.98155426 2.35710842]]\n",
      "5.5189475235251475\n",
      "[  5.78048814  10.75947021  19.63453772  26.2622059   27.68574502\n",
      "  36.22225507  40.18244505  49.56825291  51.59428673  56.05391154\n",
      "  59.71592492  64.63626973  66.45694995  69.28977388  77.71177469\n",
      "  83.62554792  90.94530063  93.19739801 102.11350368 110.99783282\n",
      " 120.24435468 123.77063562 131.63502541 135.61657967 137.97368809]\n",
      "2.647470221012791\n",
      "1.0\n",
      "0.0\n",
      "[[ 1. -1. -1. -1.]\n",
      " [-1.  1.  1.  1.]\n",
      " [-1.  1.  1.  1.]\n",
      " [-1.  1.  1.  1.]]\n"
     ]
    }
   ],
   "source": [
    "filler =np.full((5,5), 4)\n",
    "randos = np.random.random((5,5))*10\n",
    "oness = np.ones((6,6))\n",
    "\n",
    "print(np.sum(filler))\n",
    "print(np.sum(filler+randos)) \n",
    "\n",
    "print(\"randoos\")\n",
    "print(randos)\n",
    "print(np.mean(randos))\n",
    "print(np.cumsum(randos))\n",
    "print(np.std(randos))\n",
    "\n",
    "\n",
    "print(np.mean(oness))\n",
    "print(np.std(oness))\n",
    "\n",
    "## This is the the co-variance function\n",
    "\n",
    "funx = np.array([[10, 3], [2,8]])\n",
    "funx\n",
    "funy = np.array([[5, 8], [3,13]])\n",
    "funy\n",
    "\n",
    "xy = np.stack((funx, funy), axis = 0)\n",
    "np.cov(funx, funy)\n",
    "\n",
    "z = np.corrcoef(funx, funy)\n",
    "print(z)"
   ]
  },
  {
   "cell_type": "markdown",
   "metadata": {},
   "source": [
    "# NumPy Part 2"
   ]
  },
  {
   "cell_type": "markdown",
   "metadata": {},
   "source": [
    "Basic Indexing: Subsets and Slicing"
   ]
  },
  {
   "cell_type": "markdown",
   "metadata": {},
   "source": [
    "##### Get items from \"start\" to \"end\" (but the end is not included!)\n",
    "a[start:end] \n",
    "\n",
    "###### Get all items from \"start\" through the rest of the array\n",
    "a[start:]    \n",
    "\n",
    "##### Get items from the beginning to \"end\" (but the end is not included!)\n",
    "a[:end]   \n",
    "\n",
    "##### Get the last item from the last 'row':\n",
    "a[-1, -1]"
   ]
  },
  {
   "cell_type": "markdown",
   "metadata": {},
   "source": [
    "### Appending to an Array"
   ]
  },
  {
   "cell_type": "code",
   "execution_count": 6,
   "metadata": {},
   "outputs": [
    {
     "name": "stdout",
     "output_type": "stream",
     "text": [
      "[1. 1. 1. 1. 1. 1. 1. 1. 1. 1. 1. 1. 1. 1. 1. 1. 0. 0.]\n"
     ]
    }
   ],
   "source": [
    "new_one = np.ones((4,4))\n",
    "\n",
    "new=np.append(new_one, [[0], [0]])\n",
    "print(new)"
   ]
  },
  {
   "cell_type": "markdown",
   "metadata": {},
   "source": [
    "### Inserting and Deleting Elements"
   ]
  },
  {
   "cell_type": "code",
   "execution_count": null,
   "metadata": {},
   "outputs": [],
   "source": [
    "allones = np.ones((10,10))\n",
    "print(allones)\n",
    "\n",
    "np.insert(allones,0,0, axis = 0)\n",
    "np.delete(allones, -1, axis = 0)"
   ]
  },
  {
   "cell_type": "markdown",
   "metadata": {},
   "source": [
    "### A few useful functions"
   ]
  },
  {
   "cell_type": "markdown",
   "metadata": {},
   "source": [
    "call help(), np.transpose(), np.reshape(), np.resize(), np.ravel(), np.append(), np.delete(), np.concatenate(), np.vstack(), np.hstack(), np.column_stack(), np.vsplit(), np.hsplit()"
   ]
  },
  {
   "cell_type": "markdown",
   "metadata": {},
   "source": [
    "### Joining Arrays"
   ]
  },
  {
   "cell_type": "code",
   "execution_count": 7,
   "metadata": {},
   "outputs": [
    {
     "name": "stdout",
     "output_type": "stream",
     "text": [
      "concatenate:\n",
      "[1 2 3 4 1 1 1 1]\n",
      "\n",
      "vstack:\n",
      "[[1 2 3 4]\n",
      " [1 2 3 4]\n",
      " [5 6 7 8]]\n",
      "\n",
      "hstack:\n",
      "[[1 2 3 4 1 2 3 4]\n",
      " [5 6 7 8 5 6 7 8]]\n",
      "\n",
      "column_stack:\n",
      "[[1 2 3 4 1 2 3 4]\n",
      " [5 6 7 8 5 6 7 8]]\n"
     ]
    }
   ],
   "source": [
    "# Concatentate `my_array` and `x`: similar to np.append()\n",
    "# Concatenate's the 2 arrays together\n",
    "my_array = np.array([1,2,3,4])\n",
    "x = np.array([1,1,1,1])\n",
    "print(\"concatenate:\")\n",
    "print(np.concatenate((my_array, x)))\n",
    "\n",
    "# Stack arrays row-wise\n",
    "my_2d_array = np.array([[1,2,3,4], [5,6,7,8]])\n",
    "print(\"\\nvstack:\")\n",
    "print(np.vstack((my_array, my_2d_array)))\n",
    "\n",
    "# Stack arrays horizontally\n",
    "print(\"\\nhstack:\")\n",
    "print(np.hstack((my_2d_array, my_2d_array)))\n",
    "\n",
    "# Stack arrays column-wise\n",
    "print(\"\\ncolumn_stack:\")\n",
    "print(np.column_stack((my_2d_array, my_2d_array)))"
   ]
  },
  {
   "cell_type": "markdown",
   "metadata": {},
   "source": [
    "### Splitting Arrays"
   ]
  },
  {
   "cell_type": "code",
   "execution_count": 8,
   "metadata": {},
   "outputs": [
    {
     "name": "stdout",
     "output_type": "stream",
     "text": [
      "original:\n",
      "[[1 2 3 4]\n",
      " [5 6 7 8]]\n",
      "\n",
      "hsplit:\n",
      "[array([[1, 2],\n",
      "       [5, 6]]), array([[3, 4],\n",
      "       [7, 8]])]\n",
      "\n",
      "vsplit:\n",
      "[array([[1, 2, 3, 4]]), array([[5, 6, 7, 8]])]\n"
     ]
    }
   ],
   "source": [
    "# Create a 2D array.\n",
    "my_2d_array = np.array([[1,2,3,4], [5,6,7,8]])\n",
    "print(\"original:\")\n",
    "print(my_2d_array)\n",
    "\n",
    "# Split `my_stacked_array` horizontally at the 2nd index\n",
    "print(\"\\nhsplit:\")\n",
    "print(np.hsplit(my_2d_array, 2))\n",
    "\n",
    "# Split `my_stacked_array` vertically at the 2nd index\n",
    "print(\"\\nvsplit:\")\n",
    "print(np.vsplit(my_2d_array, 2))"
   ]
  },
  {
   "cell_type": "markdown",
   "metadata": {},
   "source": [
    "### Reshaping an Array"
   ]
  },
  {
   "cell_type": "code",
   "execution_count": 9,
   "metadata": {},
   "outputs": [
    {
     "name": "stdout",
     "output_type": "stream",
     "text": [
      "[[1. 1.]\n",
      " [1. 1.]]\n"
     ]
    },
    {
     "data": {
      "text/plain": [
       "array([[0., 0., 0., 0.],\n",
       "       [0., 0., 0., 0.],\n",
       "       [0., 0., 0., 0.],\n",
       "       [0., 0., 0., 0.]])"
      ]
     },
     "execution_count": 9,
     "metadata": {},
     "output_type": "execute_result"
    }
   ],
   "source": [
    "shaper = np.ones((2,2))\n",
    "print(shaper)\n",
    "np.resize(shaper, (3,4))\n",
    "\n",
    "\n",
    "shaper2 = np.zeros((8,2))\n",
    "np.reshape(shaper2, (4,4))"
   ]
  },
  {
   "cell_type": "markdown",
   "metadata": {},
   "source": [
    "# Pandas Part 1\n",
    "\n",
    "+ Pandas Cheat Sheet\n",
    "+ [Data Quest Pandas cheat sheet](./media/pandas-cheet-sheet.pdf)\n",
    "+ [Data Camp cheat sheet](./media/pandas-cheet-sheet.pdf)"
   ]
  },
  {
   "cell_type": "markdown",
   "metadata": {},
   "source": [
    "pd.head(), pd.tail(), pd.sample(), and pd.describe()"
   ]
  },
  {
   "cell_type": "code",
   "execution_count": 11,
   "metadata": {},
   "outputs": [],
   "source": [
    "import pandas as pd"
   ]
  },
  {
   "cell_type": "code",
   "execution_count": 14,
   "metadata": {},
   "outputs": [
    {
     "data": {
      "text/plain": [
       "0    1.0\n",
       "1    3.0\n",
       "2    5.0\n",
       "3    NaN\n",
       "4    6.0\n",
       "5    8.0\n",
       "dtype: float64"
      ]
     },
     "execution_count": 14,
     "metadata": {},
     "output_type": "execute_result"
    }
   ],
   "source": [
    "## Create the series object.\n",
    "my_series = pd.Series([1, 3, 5, np.nan, 6, 8])\n",
    "my_series"
   ]
  },
  {
   "cell_type": "code",
   "execution_count": 18,
   "metadata": {},
   "outputs": [
    {
     "data": {
      "text/html": [
       "<div>\n",
       "<style scoped>\n",
       "    .dataframe tbody tr th:only-of-type {\n",
       "        vertical-align: middle;\n",
       "    }\n",
       "\n",
       "    .dataframe tbody tr th {\n",
       "        vertical-align: top;\n",
       "    }\n",
       "\n",
       "    .dataframe thead th {\n",
       "        text-align: right;\n",
       "    }\n",
       "</style>\n",
       "<table border=\"1\" class=\"dataframe\">\n",
       "  <thead>\n",
       "    <tr style=\"text-align: right;\">\n",
       "      <th></th>\n",
       "      <th>alpha</th>\n",
       "      <th>beta</th>\n",
       "    </tr>\n",
       "  </thead>\n",
       "  <tbody>\n",
       "    <tr>\n",
       "      <td>0</td>\n",
       "      <td>0</td>\n",
       "      <td>a</td>\n",
       "    </tr>\n",
       "    <tr>\n",
       "      <td>1</td>\n",
       "      <td>1</td>\n",
       "      <td>b</td>\n",
       "    </tr>\n",
       "    <tr>\n",
       "      <td>2</td>\n",
       "      <td>2</td>\n",
       "      <td>c</td>\n",
       "    </tr>\n",
       "    <tr>\n",
       "      <td>3</td>\n",
       "      <td>3</td>\n",
       "      <td>d</td>\n",
       "    </tr>\n",
       "    <tr>\n",
       "      <td>4</td>\n",
       "      <td>4</td>\n",
       "      <td>e</td>\n",
       "    </tr>\n",
       "  </tbody>\n",
       "</table>\n",
       "</div>"
      ],
      "text/plain": [
       "   alpha beta\n",
       "0      0    a\n",
       "1      1    b\n",
       "2      2    c\n",
       "3      3    d\n",
       "4      4    e"
      ]
     },
     "execution_count": 18,
     "metadata": {},
     "output_type": "execute_result"
    }
   ],
   "source": [
    "## Creating a dataframe with a dictionary.\n",
    "df_1 = pd.DataFrame(\n",
    "    {'alpha': [0, 1, 2, 3, 4],\n",
    "     'beta': ['a', 'b', 'c', 'd', 'e']})\n",
    "df_1"
   ]
  },
  {
   "cell_type": "markdown",
   "metadata": {},
   "source": [
    "### Create a DataFrame with a Numpy array"
   ]
  },
  {
   "cell_type": "code",
   "execution_count": 15,
   "metadata": {},
   "outputs": [
    {
     "data": {
      "text/html": [
       "<div>\n",
       "<style scoped>\n",
       "    .dataframe tbody tr th:only-of-type {\n",
       "        vertical-align: middle;\n",
       "    }\n",
       "\n",
       "    .dataframe tbody tr th {\n",
       "        vertical-align: top;\n",
       "    }\n",
       "\n",
       "    .dataframe thead th {\n",
       "        text-align: right;\n",
       "    }\n",
       "</style>\n",
       "<table border=\"1\" class=\"dataframe\">\n",
       "  <thead>\n",
       "    <tr style=\"text-align: right;\">\n",
       "      <th></th>\n",
       "      <th>0</th>\n",
       "      <th>1</th>\n",
       "      <th>2</th>\n",
       "      <th>3</th>\n",
       "    </tr>\n",
       "  </thead>\n",
       "  <tbody>\n",
       "    <tr>\n",
       "      <td>0</td>\n",
       "      <td>-1.157182</td>\n",
       "      <td>-1.233485</td>\n",
       "      <td>-1.446705</td>\n",
       "      <td>-1.472978</td>\n",
       "    </tr>\n",
       "    <tr>\n",
       "      <td>1</td>\n",
       "      <td>0.307174</td>\n",
       "      <td>0.474843</td>\n",
       "      <td>-0.143991</td>\n",
       "      <td>0.045086</td>\n",
       "    </tr>\n",
       "    <tr>\n",
       "      <td>2</td>\n",
       "      <td>0.350213</td>\n",
       "      <td>-0.087046</td>\n",
       "      <td>1.179232</td>\n",
       "      <td>-0.181055</td>\n",
       "    </tr>\n",
       "    <tr>\n",
       "      <td>3</td>\n",
       "      <td>-0.419743</td>\n",
       "      <td>0.475897</td>\n",
       "      <td>0.988759</td>\n",
       "      <td>-0.589944</td>\n",
       "    </tr>\n",
       "    <tr>\n",
       "      <td>4</td>\n",
       "      <td>0.475359</td>\n",
       "      <td>-0.308651</td>\n",
       "      <td>0.183380</td>\n",
       "      <td>-0.580832</td>\n",
       "    </tr>\n",
       "    <tr>\n",
       "      <td>5</td>\n",
       "      <td>0.128684</td>\n",
       "      <td>-1.017575</td>\n",
       "      <td>-0.409059</td>\n",
       "      <td>0.410403</td>\n",
       "    </tr>\n",
       "  </tbody>\n",
       "</table>\n",
       "</div>"
      ],
      "text/plain": [
       "          0         1         2         3\n",
       "0 -1.157182 -1.233485 -1.446705 -1.472978\n",
       "1  0.307174  0.474843 -0.143991  0.045086\n",
       "2  0.350213 -0.087046  1.179232 -0.181055\n",
       "3 -0.419743  0.475897  0.988759 -0.589944\n",
       "4  0.475359 -0.308651  0.183380 -0.580832\n",
       "5  0.128684 -1.017575 -0.409059  0.410403"
      ]
     },
     "execution_count": 15,
     "metadata": {},
     "output_type": "execute_result"
    }
   ],
   "source": [
    "df = pd.DataFrame(np.random.randn(6, 4))\n",
    "df"
   ]
  },
  {
   "cell_type": "markdown",
   "metadata": {},
   "source": [
    "### Create a DataFrame with row and column labels\n",
    "Rather than have a numeric index for each row and column of the DataFrame, we may want to give each row a human-readable label. This will help make the data more accessible (as will be seen later).  To demonstrate, lets reuse the 6x4 datafame we created in section 2.2.2. Using this dataset we want to rename the row indexes with hypothetical dates that each row of information was collected, and we want to give the columns names, such as `A1`, `A2`, `B1` and `C1`.  \n",
    "\n",
    "First, let's set the row index names.  The code below uses the `pd.date_range` function to create a list of dates. Most likely, if we have dates in a real input dataset we would not be creating a list of dates, but for the purposes of demonstration we will generate a series of regularly spaces dates over a 6 day period: one for each of the 6 rows. Note that the `start` argument for the `pd.date_range` function expects the date in YYYYMMDD format."
   ]
  },
  {
   "cell_type": "markdown",
   "metadata": {},
   "source": [
    "###### pd.date_range(start=None, end=None, periods=None, freq=None, tz=None, normalize=False, name=None, closed=None, **kwargs) → pandas.core.indexes.datetimes.DatetimeIndex"
   ]
  },
  {
   "cell_type": "code",
   "execution_count": 21,
   "metadata": {},
   "outputs": [
    {
     "name": "stdout",
     "output_type": "stream",
     "text": [
      "DatetimeIndex(['2020-03-01', '2020-03-02', '2020-03-03', '2020-03-04',\n",
      "               '2020-03-05', '2020-03-06'],\n",
      "              dtype='datetime64[ns]', freq='D')\n"
     ]
    },
    {
     "data": {
      "text/html": [
       "<div>\n",
       "<style scoped>\n",
       "    .dataframe tbody tr th:only-of-type {\n",
       "        vertical-align: middle;\n",
       "    }\n",
       "\n",
       "    .dataframe tbody tr th {\n",
       "        vertical-align: top;\n",
       "    }\n",
       "\n",
       "    .dataframe thead th {\n",
       "        text-align: right;\n",
       "    }\n",
       "</style>\n",
       "<table border=\"1\" class=\"dataframe\">\n",
       "  <thead>\n",
       "    <tr style=\"text-align: right;\">\n",
       "      <th></th>\n",
       "      <th>A1</th>\n",
       "      <th>A2</th>\n",
       "      <th>B1</th>\n",
       "      <th>C1</th>\n",
       "    </tr>\n",
       "  </thead>\n",
       "  <tbody>\n",
       "    <tr>\n",
       "      <td>2020-03-01</td>\n",
       "      <td>-0.625531</td>\n",
       "      <td>-2.936700</td>\n",
       "      <td>-0.790367</td>\n",
       "      <td>-0.268665</td>\n",
       "    </tr>\n",
       "    <tr>\n",
       "      <td>2020-03-02</td>\n",
       "      <td>-0.282703</td>\n",
       "      <td>-0.509609</td>\n",
       "      <td>1.239814</td>\n",
       "      <td>-0.089300</td>\n",
       "    </tr>\n",
       "    <tr>\n",
       "      <td>2020-03-03</td>\n",
       "      <td>1.988578</td>\n",
       "      <td>0.424629</td>\n",
       "      <td>-0.979049</td>\n",
       "      <td>-0.905124</td>\n",
       "    </tr>\n",
       "    <tr>\n",
       "      <td>2020-03-04</td>\n",
       "      <td>0.901499</td>\n",
       "      <td>1.766624</td>\n",
       "      <td>0.611972</td>\n",
       "      <td>0.659912</td>\n",
       "    </tr>\n",
       "    <tr>\n",
       "      <td>2020-03-05</td>\n",
       "      <td>-0.528187</td>\n",
       "      <td>-0.970592</td>\n",
       "      <td>-0.667780</td>\n",
       "      <td>0.297129</td>\n",
       "    </tr>\n",
       "    <tr>\n",
       "      <td>2020-03-06</td>\n",
       "      <td>2.402315</td>\n",
       "      <td>0.170012</td>\n",
       "      <td>1.081661</td>\n",
       "      <td>0.991660</td>\n",
       "    </tr>\n",
       "  </tbody>\n",
       "</table>\n",
       "</div>"
      ],
      "text/plain": [
       "                  A1        A2        B1        C1\n",
       "2020-03-01 -0.625531 -2.936700 -0.790367 -0.268665\n",
       "2020-03-02 -0.282703 -0.509609  1.239814 -0.089300\n",
       "2020-03-03  1.988578  0.424629 -0.979049 -0.905124\n",
       "2020-03-04  0.901499  1.766624  0.611972  0.659912\n",
       "2020-03-05 -0.528187 -0.970592 -0.667780  0.297129\n",
       "2020-03-06  2.402315  0.170012  1.081661  0.991660"
      ]
     },
     "execution_count": 21,
     "metadata": {},
     "output_type": "execute_result"
    }
   ],
   "source": [
    "dates = pd.date_range('20200301', periods=6)\n",
    "print(dates)\n",
    "df = pd.DataFrame(np.random.randn(6, 4), index=dates, columns=('A1','A2', 'B1', 'C1'))\n",
    "df"
   ]
  },
  {
   "cell_type": "markdown",
   "metadata": {},
   "source": [
    "### To use quarterly data in the index"
   ]
  },
  {
   "cell_type": "code",
   "execution_count": 31,
   "metadata": {},
   "outputs": [
    {
     "data": {
      "text/html": [
       "<div>\n",
       "<style scoped>\n",
       "    .dataframe tbody tr th:only-of-type {\n",
       "        vertical-align: middle;\n",
       "    }\n",
       "\n",
       "    .dataframe tbody tr th {\n",
       "        vertical-align: top;\n",
       "    }\n",
       "\n",
       "    .dataframe thead th {\n",
       "        text-align: right;\n",
       "    }\n",
       "</style>\n",
       "<table border=\"1\" class=\"dataframe\">\n",
       "  <thead>\n",
       "    <tr style=\"text-align: right;\">\n",
       "      <th></th>\n",
       "      <th>A1</th>\n",
       "      <th>A2</th>\n",
       "      <th>B1</th>\n",
       "      <th>C1</th>\n",
       "    </tr>\n",
       "  </thead>\n",
       "  <tbody>\n",
       "    <tr>\n",
       "      <td>1989-04-01</td>\n",
       "      <td>-0.482702</td>\n",
       "      <td>-0.359133</td>\n",
       "      <td>-1.699077</td>\n",
       "      <td>-0.210951</td>\n",
       "    </tr>\n",
       "    <tr>\n",
       "      <td>1986-01-01</td>\n",
       "      <td>-0.678817</td>\n",
       "      <td>0.381300</td>\n",
       "      <td>0.084559</td>\n",
       "      <td>-0.235659</td>\n",
       "    </tr>\n",
       "    <tr>\n",
       "      <td>1988-01-01</td>\n",
       "      <td>0.935037</td>\n",
       "      <td>0.751621</td>\n",
       "      <td>-0.116422</td>\n",
       "      <td>1.233526</td>\n",
       "    </tr>\n",
       "    <tr>\n",
       "      <td>1976-01-01</td>\n",
       "      <td>-0.911522</td>\n",
       "      <td>-0.830562</td>\n",
       "      <td>0.452793</td>\n",
       "      <td>0.547510</td>\n",
       "    </tr>\n",
       "  </tbody>\n",
       "</table>\n",
       "</div>"
      ],
      "text/plain": [
       "                  A1        A2        B1        C1\n",
       "1989-04-01 -0.482702 -0.359133 -1.699077 -0.210951\n",
       "1986-01-01 -0.678817  0.381300  0.084559 -0.235659\n",
       "1988-01-01  0.935037  0.751621 -0.116422  1.233526\n",
       "1976-01-01 -0.911522 -0.830562  0.452793  0.547510"
      ]
     },
     "execution_count": 31,
     "metadata": {},
     "output_type": "execute_result"
    }
   ],
   "source": [
    "dates1 = pd.date_range('19750301', periods=60, freq = 'QS')\n",
    "df1 = pd.DataFrame(np.random.randn(60, 4), index=dates1, columns=('A1','A2', 'B1', 'C1'))\n",
    "df1.sample(4)"
   ]
  },
  {
   "cell_type": "markdown",
   "metadata": {},
   "source": [
    "### Create DataFrame with labels"
   ]
  },
  {
   "cell_type": "code",
   "execution_count": 32,
   "metadata": {},
   "outputs": [
    {
     "data": {
      "text/html": [
       "<div>\n",
       "<style scoped>\n",
       "    .dataframe tbody tr th:only-of-type {\n",
       "        vertical-align: middle;\n",
       "    }\n",
       "\n",
       "    .dataframe tbody tr th {\n",
       "        vertical-align: top;\n",
       "    }\n",
       "\n",
       "    .dataframe thead th {\n",
       "        text-align: right;\n",
       "    }\n",
       "</style>\n",
       "<table border=\"1\" class=\"dataframe\">\n",
       "  <thead>\n",
       "    <tr style=\"text-align: right;\">\n",
       "      <th></th>\n",
       "      <th>Midterm</th>\n",
       "      <th>Final Exam</th>\n",
       "      <th>Project</th>\n",
       "      <th>Homework</th>\n",
       "      <th>Extra Credit</th>\n",
       "    </tr>\n",
       "  </thead>\n",
       "  <tbody>\n",
       "    <tr>\n",
       "      <td>Joshua</td>\n",
       "      <td>1.046225</td>\n",
       "      <td>0.968444</td>\n",
       "      <td>0.809950</td>\n",
       "      <td>1.162581</td>\n",
       "      <td>1.008440</td>\n",
       "    </tr>\n",
       "    <tr>\n",
       "      <td>Ricky1</td>\n",
       "      <td>0.855639</td>\n",
       "      <td>0.764653</td>\n",
       "      <td>0.987449</td>\n",
       "      <td>0.932649</td>\n",
       "      <td>0.624694</td>\n",
       "    </tr>\n",
       "    <tr>\n",
       "      <td>Ricky2</td>\n",
       "      <td>1.027834</td>\n",
       "      <td>0.717269</td>\n",
       "      <td>0.698582</td>\n",
       "      <td>0.769746</td>\n",
       "      <td>0.796632</td>\n",
       "    </tr>\n",
       "    <tr>\n",
       "      <td>Evan</td>\n",
       "      <td>0.883034</td>\n",
       "      <td>0.978274</td>\n",
       "      <td>0.588358</td>\n",
       "      <td>0.525857</td>\n",
       "      <td>0.805575</td>\n",
       "    </tr>\n",
       "    <tr>\n",
       "      <td>Gunnar</td>\n",
       "      <td>0.906944</td>\n",
       "      <td>1.300561</td>\n",
       "      <td>0.887670</td>\n",
       "      <td>0.831525</td>\n",
       "      <td>0.674512</td>\n",
       "    </tr>\n",
       "    <tr>\n",
       "      <td>Dane</td>\n",
       "      <td>0.751315</td>\n",
       "      <td>0.859218</td>\n",
       "      <td>0.549579</td>\n",
       "      <td>0.927726</td>\n",
       "      <td>0.876510</td>\n",
       "    </tr>\n",
       "    <tr>\n",
       "      <td>Student 7</td>\n",
       "      <td>1.090285</td>\n",
       "      <td>0.730832</td>\n",
       "      <td>0.981342</td>\n",
       "      <td>0.592174</td>\n",
       "      <td>1.022499</td>\n",
       "    </tr>\n",
       "    <tr>\n",
       "      <td>Student 8</td>\n",
       "      <td>0.600187</td>\n",
       "      <td>0.669310</td>\n",
       "      <td>0.979880</td>\n",
       "      <td>0.855612</td>\n",
       "      <td>0.859918</td>\n",
       "    </tr>\n",
       "    <tr>\n",
       "      <td>Student 9</td>\n",
       "      <td>0.712127</td>\n",
       "      <td>0.861978</td>\n",
       "      <td>0.909783</td>\n",
       "      <td>1.128630</td>\n",
       "      <td>0.927352</td>\n",
       "    </tr>\n",
       "    <tr>\n",
       "      <td>Student 10</td>\n",
       "      <td>0.848136</td>\n",
       "      <td>0.931480</td>\n",
       "      <td>0.787592</td>\n",
       "      <td>0.725783</td>\n",
       "      <td>0.960793</td>\n",
       "    </tr>\n",
       "  </tbody>\n",
       "</table>\n",
       "</div>"
      ],
      "text/plain": [
       "             Midterm  Final Exam   Project  Homework  Extra Credit\n",
       "Joshua      1.046225    0.968444  0.809950  1.162581      1.008440\n",
       "Ricky1      0.855639    0.764653  0.987449  0.932649      0.624694\n",
       "Ricky2      1.027834    0.717269  0.698582  0.769746      0.796632\n",
       "Evan        0.883034    0.978274  0.588358  0.525857      0.805575\n",
       "Gunnar      0.906944    1.300561  0.887670  0.831525      0.674512\n",
       "Dane        0.751315    0.859218  0.549579  0.927726      0.876510\n",
       " Student 7  1.090285    0.730832  0.981342  0.592174      1.022499\n",
       "Student 8   0.600187    0.669310  0.979880  0.855612      0.859918\n",
       "Student 9   0.712127    0.861978  0.909783  1.128630      0.927352\n",
       "Student 10  0.848136    0.931480  0.787592  0.725783      0.960793"
      ]
     },
     "execution_count": 32,
     "metadata": {},
     "output_type": "execute_result"
    }
   ],
   "source": [
    "names = (\"Joshua\", \"Ricky1\", \"Ricky2\",\"Evan\", \"Gunnar\", \"Dane\", \" Student 7\", \"Student 8\", \"Student 9\", \"Student 10\" )\n",
    "AFSgrades = pd.DataFrame(np.random.normal(0.85, .2, (10, 5)), index=names, columns=('Midterm','Final Exam','Project','Homework','Extra Credit'))\n",
    "AFSgrades"
   ]
  },
  {
   "cell_type": "markdown",
   "metadata": {},
   "source": [
    "### Get Values"
   ]
  },
  {
   "cell_type": "code",
   "execution_count": 33,
   "metadata": {},
   "outputs": [],
   "source": [
    "iris = pd.read_csv(r\"C:\\Users\\Joshu\\afs505_u2\\iris.csv\")\n",
    "\n",
    "#df.loc[row_start:row_end, column_start:column_end] <-- proper syntax \n",
    "iris.loc[0:0]     # Gets the first row\n",
    "iris.loc[0:5]    # Gets the first 5 rows\n",
    "\n",
    "\n",
    "iris_df.loc[[4,6], ['sepal_width', 'petal_width']]   #Grabs specific columns\n",
    "iris_df.loc[4:6, ['sepal_width', 'petal_width']]     #Grabs a range of columns\n",
    "\n",
    "######################### iloc #######################\n",
    "#iris.iloc[:,0]          #Grabs the first column\n",
    "#iris.iloc[3]            #Grabs the first 3 rows\n",
    "\n",
    "iris.iloc[10:15, :-3]    #Grabs rows 10-15 and excludes the last 3 columns\n",
    "#iris.columns           #Gets column names\n",
    "\n",
    "iris_df.loc[4:6, 'sepal_width': 'petal_width']"
   ]
  },
  {
   "cell_type": "markdown",
   "metadata": {},
   "source": [
    "# Pandas Part 2"
   ]
  },
  {
   "cell_type": "markdown",
   "metadata": {},
   "source": [
    "### Inserting a New Column"
   ]
  },
  {
   "cell_type": "code",
   "execution_count": 36,
   "metadata": {},
   "outputs": [
    {
     "data": {
      "text/html": [
       "<div>\n",
       "<style scoped>\n",
       "    .dataframe tbody tr th:only-of-type {\n",
       "        vertical-align: middle;\n",
       "    }\n",
       "\n",
       "    .dataframe tbody tr th {\n",
       "        vertical-align: top;\n",
       "    }\n",
       "\n",
       "    .dataframe thead th {\n",
       "        text-align: right;\n",
       "    }\n",
       "</style>\n",
       "<table border=\"1\" class=\"dataframe\">\n",
       "  <thead>\n",
       "    <tr style=\"text-align: right;\">\n",
       "      <th></th>\n",
       "      <th>A1</th>\n",
       "      <th>A2</th>\n",
       "      <th>B1</th>\n",
       "      <th>C1</th>\n",
       "      <th>gamma</th>\n",
       "    </tr>\n",
       "  </thead>\n",
       "  <tbody>\n",
       "    <tr>\n",
       "      <td>2020-03-01</td>\n",
       "      <td>-0.625531</td>\n",
       "      <td>-2.936700</td>\n",
       "      <td>-0.790367</td>\n",
       "      <td>-0.268665</td>\n",
       "      <td>NaN</td>\n",
       "    </tr>\n",
       "    <tr>\n",
       "      <td>2020-03-02</td>\n",
       "      <td>-0.282703</td>\n",
       "      <td>-0.509609</td>\n",
       "      <td>1.239814</td>\n",
       "      <td>-0.089300</td>\n",
       "      <td>NaN</td>\n",
       "    </tr>\n",
       "    <tr>\n",
       "      <td>2020-03-03</td>\n",
       "      <td>1.988578</td>\n",
       "      <td>0.424629</td>\n",
       "      <td>-0.979049</td>\n",
       "      <td>-0.905124</td>\n",
       "      <td>NaN</td>\n",
       "    </tr>\n",
       "    <tr>\n",
       "      <td>2020-03-04</td>\n",
       "      <td>0.901499</td>\n",
       "      <td>1.766624</td>\n",
       "      <td>0.611972</td>\n",
       "      <td>0.659912</td>\n",
       "      <td>NaN</td>\n",
       "    </tr>\n",
       "    <tr>\n",
       "      <td>2020-03-05</td>\n",
       "      <td>-0.528187</td>\n",
       "      <td>-0.970592</td>\n",
       "      <td>-0.667780</td>\n",
       "      <td>0.297129</td>\n",
       "      <td>NaN</td>\n",
       "    </tr>\n",
       "    <tr>\n",
       "      <td>2020-03-06</td>\n",
       "      <td>2.402315</td>\n",
       "      <td>0.170012</td>\n",
       "      <td>1.081661</td>\n",
       "      <td>0.991660</td>\n",
       "      <td>NaN</td>\n",
       "    </tr>\n",
       "  </tbody>\n",
       "</table>\n",
       "</div>"
      ],
      "text/plain": [
       "                  A1        A2        B1        C1  gamma\n",
       "2020-03-01 -0.625531 -2.936700 -0.790367 -0.268665    NaN\n",
       "2020-03-02 -0.282703 -0.509609  1.239814 -0.089300    NaN\n",
       "2020-03-03  1.988578  0.424629 -0.979049 -0.905124    NaN\n",
       "2020-03-04  0.901499  1.766624  0.611972  0.659912    NaN\n",
       "2020-03-05 -0.528187 -0.970592 -0.667780  0.297129    NaN\n",
       "2020-03-06  2.402315  0.170012  1.081661  0.991660    NaN"
      ]
     },
     "execution_count": 36,
     "metadata": {},
     "output_type": "execute_result"
    }
   ],
   "source": [
    "# Add the new column\n",
    "new_series = pd.Series([4, 3, 2, 1, 0])\n",
    "df['gamma'] = new_series\n",
    "\n",
    "# Now print the data frame\n",
    "df"
   ]
  },
  {
   "cell_type": "code",
   "execution_count": 37,
   "metadata": {},
   "outputs": [
    {
     "ename": "SyntaxError",
     "evalue": "invalid syntax (<ipython-input-37-3b6b3dd5b5be>, line 1)",
     "output_type": "error",
     "traceback": [
      "\u001b[1;36m  File \u001b[1;32m\"<ipython-input-37-3b6b3dd5b5be>\"\u001b[1;36m, line \u001b[1;32m1\u001b[0m\n\u001b[1;33m    Alternatively you can use a numpy array instead of a Seris\u001b[0m\n\u001b[1;37m                    ^\u001b[0m\n\u001b[1;31mSyntaxError\u001b[0m\u001b[1;31m:\u001b[0m invalid syntax\n"
     ]
    }
   ],
   "source": [
    "Alternatively you can use a numpy array instead of a Seris"
   ]
  },
  {
   "cell_type": "code",
   "execution_count": 39,
   "metadata": {},
   "outputs": [
    {
     "data": {
      "text/html": [
       "<div>\n",
       "<style scoped>\n",
       "    .dataframe tbody tr th:only-of-type {\n",
       "        vertical-align: middle;\n",
       "    }\n",
       "\n",
       "    .dataframe tbody tr th {\n",
       "        vertical-align: top;\n",
       "    }\n",
       "\n",
       "    .dataframe thead th {\n",
       "        text-align: right;\n",
       "    }\n",
       "</style>\n",
       "<table border=\"1\" class=\"dataframe\">\n",
       "  <thead>\n",
       "    <tr style=\"text-align: right;\">\n",
       "      <th></th>\n",
       "      <th>alpha</th>\n",
       "      <th>beta</th>\n",
       "      <th>gamma</th>\n",
       "    </tr>\n",
       "  </thead>\n",
       "  <tbody>\n",
       "    <tr>\n",
       "      <td>0</td>\n",
       "      <td>0</td>\n",
       "      <td>a</td>\n",
       "      <td>4</td>\n",
       "    </tr>\n",
       "    <tr>\n",
       "      <td>1</td>\n",
       "      <td>1</td>\n",
       "      <td>b</td>\n",
       "      <td>3</td>\n",
       "    </tr>\n",
       "    <tr>\n",
       "      <td>2</td>\n",
       "      <td>2</td>\n",
       "      <td>c</td>\n",
       "      <td>2</td>\n",
       "    </tr>\n",
       "    <tr>\n",
       "      <td>3</td>\n",
       "      <td>3</td>\n",
       "      <td>d</td>\n",
       "      <td>1</td>\n",
       "    </tr>\n",
       "    <tr>\n",
       "      <td>4</td>\n",
       "      <td>4</td>\n",
       "      <td>e</td>\n",
       "      <td>0</td>\n",
       "    </tr>\n",
       "  </tbody>\n",
       "</table>\n",
       "</div>"
      ],
      "text/plain": [
       "   alpha beta  gamma\n",
       "0      0    a      4\n",
       "1      1    b      3\n",
       "2      2    c      2\n",
       "3      3    d      1\n",
       "4      4    e      0"
      ]
     },
     "execution_count": 39,
     "metadata": {},
     "output_type": "execute_result"
    }
   ],
   "source": [
    "df = pd.DataFrame(\n",
    "    {'alpha': [0, 1, 2, 3, 4],\n",
    "     'beta': ['a', 'b', 'c', 'd', 'e']})\n",
    "\n",
    "## Add column\n",
    "df['gamma'] = np.array([4, 3, 2, 1, 0])\n",
    "df"
   ]
  },
  {
   "cell_type": "markdown",
   "metadata": {},
   "source": [
    "### Missing Data\n",
    "https://pandas.pydata.org/pandas-docs/stable/user_guide/missing_data.html#missing-data"
   ]
  },
  {
   "cell_type": "markdown",
   "metadata": {},
   "source": [
    "### Dropping Rows with Missing Values"
   ]
  },
  {
   "cell_type": "code",
   "execution_count": null,
   "metadata": {},
   "outputs": [],
   "source": [
    "df.dropna()"
   ]
  },
  {
   "cell_type": "markdown",
   "metadata": {},
   "source": [
    "If you would like to have the data frame change \"in place\", then you then have two choices:\n",
    "1. Use the `dropna` function's `inplace=True` argument.\n",
    "2. Assign the result, using the same name.\n",
    "    `df = df.dropna()`\n",
    "\n",
    "Let's save the dataframe with rows removed into a new data frame:"
   ]
  },
  {
   "cell_type": "code",
   "execution_count": 40,
   "metadata": {},
   "outputs": [
    {
     "data": {
      "text/html": [
       "<div>\n",
       "<style scoped>\n",
       "    .dataframe tbody tr th:only-of-type {\n",
       "        vertical-align: middle;\n",
       "    }\n",
       "\n",
       "    .dataframe tbody tr th {\n",
       "        vertical-align: top;\n",
       "    }\n",
       "\n",
       "    .dataframe thead th {\n",
       "        text-align: right;\n",
       "    }\n",
       "</style>\n",
       "<table border=\"1\" class=\"dataframe\">\n",
       "  <thead>\n",
       "    <tr style=\"text-align: right;\">\n",
       "      <th></th>\n",
       "      <th>alpha</th>\n",
       "      <th>beta</th>\n",
       "      <th>gamma</th>\n",
       "    </tr>\n",
       "  </thead>\n",
       "  <tbody>\n",
       "    <tr>\n",
       "      <td>0</td>\n",
       "      <td>0</td>\n",
       "      <td>a</td>\n",
       "      <td>4</td>\n",
       "    </tr>\n",
       "    <tr>\n",
       "      <td>1</td>\n",
       "      <td>1</td>\n",
       "      <td>b</td>\n",
       "      <td>3</td>\n",
       "    </tr>\n",
       "    <tr>\n",
       "      <td>2</td>\n",
       "      <td>2</td>\n",
       "      <td>c</td>\n",
       "      <td>2</td>\n",
       "    </tr>\n",
       "    <tr>\n",
       "      <td>3</td>\n",
       "      <td>3</td>\n",
       "      <td>d</td>\n",
       "      <td>1</td>\n",
       "    </tr>\n",
       "    <tr>\n",
       "      <td>4</td>\n",
       "      <td>4</td>\n",
       "      <td>e</td>\n",
       "      <td>0</td>\n",
       "    </tr>\n",
       "  </tbody>\n",
       "</table>\n",
       "</div>"
      ],
      "text/plain": [
       "   alpha beta  gamma\n",
       "0      0    a      4\n",
       "1      1    b      3\n",
       "2      2    c      2\n",
       "3      3    d      1\n",
       "4      4    e      0"
      ]
     },
     "execution_count": 40,
     "metadata": {},
     "output_type": "execute_result"
    }
   ],
   "source": [
    "# Drop the rows with missing values.\n",
    "df_nomissing = df.dropna()\n",
    "# Print the contents of our new data frame.\n",
    "df_nomissing"
   ]
  },
  {
   "cell_type": "markdown",
   "metadata": {},
   "source": [
    "### Filling Missing Values\n",
    "In some cases, setting missing values to some other value (such as 0) may be appropriate. This can be accomplished using the df.fillna() function and passing in the desired value. Below we'll fill missing values with"
   ]
  },
  {
   "cell_type": "code",
   "execution_count": 55,
   "metadata": {},
   "outputs": [
    {
     "data": {
      "text/html": [
       "<div>\n",
       "<style scoped>\n",
       "    .dataframe tbody tr th:only-of-type {\n",
       "        vertical-align: middle;\n",
       "    }\n",
       "\n",
       "    .dataframe tbody tr th {\n",
       "        vertical-align: top;\n",
       "    }\n",
       "\n",
       "    .dataframe thead th {\n",
       "        text-align: right;\n",
       "    }\n",
       "</style>\n",
       "<table border=\"1\" class=\"dataframe\">\n",
       "  <thead>\n",
       "    <tr style=\"text-align: right;\">\n",
       "      <th></th>\n",
       "      <th>alpha</th>\n",
       "      <th>beta</th>\n",
       "      <th>gamma</th>\n",
       "    </tr>\n",
       "  </thead>\n",
       "  <tbody>\n",
       "    <tr>\n",
       "      <td>0</td>\n",
       "      <td>0</td>\n",
       "      <td>a</td>\n",
       "      <td>4</td>\n",
       "    </tr>\n",
       "    <tr>\n",
       "      <td>1</td>\n",
       "      <td>1</td>\n",
       "      <td>b</td>\n",
       "      <td>3</td>\n",
       "    </tr>\n",
       "    <tr>\n",
       "      <td>2</td>\n",
       "      <td>2</td>\n",
       "      <td>c</td>\n",
       "      <td>2</td>\n",
       "    </tr>\n",
       "    <tr>\n",
       "      <td>3</td>\n",
       "      <td>3</td>\n",
       "      <td>d</td>\n",
       "      <td>1</td>\n",
       "    </tr>\n",
       "    <tr>\n",
       "      <td>4</td>\n",
       "      <td>4</td>\n",
       "      <td>e</td>\n",
       "      <td>0</td>\n",
       "    </tr>\n",
       "  </tbody>\n",
       "</table>\n",
       "</div>"
      ],
      "text/plain": [
       "   alpha beta  gamma\n",
       "0      0    a      4\n",
       "1      1    b      3\n",
       "2      2    c      2\n",
       "3      3    d      1\n",
       "4      4    e      0"
      ]
     },
     "execution_count": 55,
     "metadata": {},
     "output_type": "execute_result"
    }
   ],
   "source": [
    "df.fillna(0)"
   ]
  },
  {
   "cell_type": "markdown",
   "metadata": {},
   "source": [
    "### Mathematical Operations"
   ]
  },
  {
   "cell_type": "code",
   "execution_count": 57,
   "metadata": {},
   "outputs": [
    {
     "name": "stdout",
     "output_type": "stream",
     "text": [
      "Help on function mean in module pandas.core.frame:\n",
      "\n",
      "mean(self, axis=None, skipna=None, level=None, numeric_only=None, **kwargs)\n",
      "    Return the mean of the values for the requested axis.\n",
      "    \n",
      "    Parameters\n",
      "    ----------\n",
      "    axis : {index (0), columns (1)}\n",
      "        Axis for the function to be applied on.\n",
      "    skipna : bool, default True\n",
      "        Exclude NA/null values when computing the result.\n",
      "    level : int or level name, default None\n",
      "        If the axis is a MultiIndex (hierarchical), count along a\n",
      "        particular level, collapsing into a Series.\n",
      "    numeric_only : bool, default None\n",
      "        Include only float, int, boolean columns. If None, will attempt to use\n",
      "        everything, then use only numeric data. Not implemented for Series.\n",
      "    **kwargs\n",
      "        Additional keyword arguments to be passed to the function.\n",
      "    \n",
      "    Returns\n",
      "    -------\n",
      "    Series or DataFrame (if level specified)\n",
      "\n"
     ]
    },
    {
     "data": {
      "text/plain": [
       "sepal_length    876.5\n",
       "sepal_width     458.1\n",
       "dtype: float64"
      ]
     },
     "execution_count": 57,
     "metadata": {},
     "output_type": "execute_result"
    }
   ],
   "source": [
    "help(pd.DataFrame.mean)\n",
    "# calcualte the mean of each row, and use the head function to only show the\n",
    "# top 5 rows.\n",
    "iris_df = pd.read_csv('iris.csv')\n",
    "iris_df.mean()\n",
    "iris_df.mean(1).head()\n",
    "iris_df\n",
    "\n",
    "iris_df.corr()\n",
    "iris_df.median()\n",
    "iris_df.var()\n",
    "iris_df.std(axis=0)\n",
    "iris_df.mean()\n",
    "\n",
    "#Subest the data to exlude column 'species' because it is a string\n",
    "DropCol5 = iris_df.filter(items=['sepal_length', 'sepal_width', 'petal_length', 'petal_width'])\n",
    "#Calculate the percecntage change from 1 period earlier (differencing but using percentage)\n",
    "DropCol5.pct_change(1)\n",
    "\n",
    "Sepal_sum = iris_df.filter(items=['sepal_length', 'sepal_width'])\n",
    "Sepal_sum.apply(np.sum)\n"
   ]
  },
  {
   "cell_type": "markdown",
   "metadata": {},
   "source": [
    "### Apply\n",
    "\n",
    "Another common operation is the ability to \"apply\" another function to a set of rows or columns (or a subset created from slicing). To efficiently apply functions in this way there is the `df.apply()` function.  The list of arguments for the `df.apply()` function are shown below \n",
    "\n",
    "```python\n",
    "apply(func, axis=0, broadcast=None, raw=False, reduce=None, result_type=None, args=(), **kwds)\n",
    "```"
   ]
  },
  {
   "cell_type": "code",
   "execution_count": 51,
   "metadata": {},
   "outputs": [
    {
     "name": "stdout",
     "output_type": "stream",
     "text": [
      "0    0\n",
      "1    1\n",
      "2    2\n",
      "3    3\n",
      "4    4\n",
      "Name: alpha, dtype: object\n",
      "0    a\n",
      "1    b\n",
      "2    c\n",
      "3    d\n",
      "4    e\n",
      "Name: beta, dtype: object\n",
      "0    4\n",
      "1    3\n",
      "2    2\n",
      "3    1\n",
      "4    0\n",
      "Name: gamma, dtype: object\n"
     ]
    },
    {
     "data": {
      "text/plain": [
       "alpha       10\n",
       "beta     abcde\n",
       "gamma       10\n",
       "dtype: object"
      ]
     },
     "execution_count": 51,
     "metadata": {},
     "output_type": "execute_result"
    }
   ],
   "source": [
    "#help(df.apply)\n",
    "df.apply(print)\n",
    "df.apply(type)\n",
    "df.apply(np.sum)"
   ]
  },
  {
   "cell_type": "markdown",
   "metadata": {},
   "source": [
    "### Occurances\n",
    "\n",
    "You can calculate the number of occurances for a set of values in a `pd.Series` object using the `value_counts` function.  These counts are similar to what you would see in a Histogram.  As an example, let's create a new series containing 10 random integers between 1 and 7. Then we will use `value_counts` to observe how many occurances there are of each integer.  First let's create the series:"
   ]
  },
  {
   "cell_type": "code",
   "execution_count": 52,
   "metadata": {},
   "outputs": [
    {
     "data": {
      "text/plain": [
       "1    3\n",
       "5    2\n",
       "4    2\n",
       "3    2\n",
       "6    1\n",
       "dtype: int64"
      ]
     },
     "execution_count": 52,
     "metadata": {},
     "output_type": "execute_result"
    }
   ],
   "source": [
    "s = pd.Series(np.random.randint(0, 7, size=10))\n",
    "s\n",
    "s.value_counts()\n",
    "\n"
   ]
  },
  {
   "cell_type": "markdown",
   "metadata": {},
   "source": [
    "#### Working with Strings in the DataFrame\n",
    "\n",
    "Many times, data sets will have columns with string values that must be modified in some way, such as being split from one column into two, or joining columns into one. To demonstrate string methods, lets adjust the `df` object to add some strings.  As a reminder lets look at the df object:"
   ]
  },
  {
   "cell_type": "markdown",
   "metadata": {},
   "source": [
    "### Working with Strings in the DataFrame"
   ]
  },
  {
   "cell_type": "code",
   "execution_count": 54,
   "metadata": {},
   "outputs": [
    {
     "data": {
      "text/plain": [
       "(5, 3)"
      ]
     },
     "execution_count": 54,
     "metadata": {},
     "output_type": "execute_result"
    }
   ],
   "source": [
    "df\n",
    "df.shape"
   ]
  },
  {
   "cell_type": "markdown",
   "metadata": {},
   "source": [
    "## Need to add this \n",
    "# String Methods\n",
    "\n",
    "+ Create a list of five strings that represent dates in the form YYYY-MM-DD (e.g. 2020-02-20 for Feb 20th, 2020).\n",
    "+ Add this list of dates as a new column in the `df` dataframe.\n",
    "+ Now split the date into 3 new columns with one column representing the year, another the month and another they day.\n",
    "+ Combine the values from columns `alpha` and `beta` into a new column where the values are spearated with a colon.\n"
   ]
  },
  {
   "cell_type": "markdown",
   "metadata": {},
   "source": [
    "### Concatenation by Rows"
   ]
  },
  {
   "cell_type": "code",
   "execution_count": 63,
   "metadata": {},
   "outputs": [],
   "source": [
    "df1 = pd.DataFrame(\n",
    "  {'alpha': [0, 1, 2, 3, 4],\n",
    "   'beta': ['a', 'b', 'c', 'd', 'e']}, index = ['I1', 'I2' ,'I3', 'I4', 'I5'])\n",
    "\n",
    "df2 = pd.DataFrame(\n",
    "{'delta' : [3, 6, 9, 12, 15],\n",
    "'gamma' :['three', 'six', 'nine', 'twelve', 'fifteen']}, index = ['I1', 'I2', 'I3', 'Eye4', 'Eye5'])\n",
    "\n",
    "df2.head()\n",
    "\n",
    "\n",
    "## There are NaN because the two dfs have not merged their index.\n",
    "## They each still retain their original index therefore have missing values\n",
    "\n",
    "concate_df = pd.concat([df1, df2], axis=0, sort=True).reindex\n"
   ]
  },
  {
   "cell_type": "markdown",
   "metadata": {},
   "source": [
    "### Concatenation by Columns"
   ]
  },
  {
   "cell_type": "code",
   "execution_count": 64,
   "metadata": {},
   "outputs": [
    {
     "data": {
      "text/html": [
       "<div>\n",
       "<style scoped>\n",
       "    .dataframe tbody tr th:only-of-type {\n",
       "        vertical-align: middle;\n",
       "    }\n",
       "\n",
       "    .dataframe tbody tr th {\n",
       "        vertical-align: top;\n",
       "    }\n",
       "\n",
       "    .dataframe thead th {\n",
       "        text-align: right;\n",
       "    }\n",
       "</style>\n",
       "<table border=\"1\" class=\"dataframe\">\n",
       "  <thead>\n",
       "    <tr style=\"text-align: right;\">\n",
       "      <th></th>\n",
       "      <th>alpha</th>\n",
       "      <th>beta</th>\n",
       "      <th>delta</th>\n",
       "      <th>delta</th>\n",
       "      <th>gamma</th>\n",
       "    </tr>\n",
       "  </thead>\n",
       "  <tbody>\n",
       "    <tr>\n",
       "      <td>I1</td>\n",
       "      <td>0</td>\n",
       "      <td>a</td>\n",
       "      <td>90</td>\n",
       "      <td>3</td>\n",
       "      <td>three</td>\n",
       "    </tr>\n",
       "    <tr>\n",
       "      <td>I2</td>\n",
       "      <td>1</td>\n",
       "      <td>b</td>\n",
       "      <td>80</td>\n",
       "      <td>6</td>\n",
       "      <td>six</td>\n",
       "    </tr>\n",
       "    <tr>\n",
       "      <td>I3</td>\n",
       "      <td>2</td>\n",
       "      <td>c</td>\n",
       "      <td>70</td>\n",
       "      <td>9</td>\n",
       "      <td>nine</td>\n",
       "    </tr>\n",
       "  </tbody>\n",
       "</table>\n",
       "</div>"
      ],
      "text/plain": [
       "    alpha beta  delta  delta  gamma\n",
       "I1      0    a     90      3  three\n",
       "I2      1    b     80      6    six\n",
       "I3      2    c     70      9   nine"
      ]
     },
     "execution_count": 64,
     "metadata": {},
     "output_type": "execute_result"
    }
   ],
   "source": [
    "# Notice, an \"inner\" join removes rows whose index name is not present in both\n",
    "df1['delta'] = [90, 80, 70, 60, 50]\n",
    "df1\n",
    "pd.concat([df1, df2], axis=1, sort = True)\n",
    "pd.concat([df1, df2], axis=1, join='inner')\n"
   ]
  },
  {
   "cell_type": "markdown",
   "metadata": {},
   "source": [
    "### Concat and append data frames"
   ]
  },
  {
   "cell_type": "code",
   "execution_count": 61,
   "metadata": {},
   "outputs": [
    {
     "name": "stderr",
     "output_type": "stream",
     "text": [
      "C:\\Users\\Joshu\\anaconda\\lib\\site-packages\\pandas\\core\\frame.py:7123: FutureWarning: Sorting because non-concatenation axis is not aligned. A future version\n",
      "of pandas will change to not sort by default.\n",
      "\n",
      "To accept the future behavior, pass 'sort=False'.\n",
      "\n",
      "To retain the current behavior and silence the warning, pass 'sort=True'.\n",
      "\n",
      "  sort=sort,\n"
     ]
    },
    {
     "data": {
      "text/html": [
       "<div>\n",
       "<style scoped>\n",
       "    .dataframe tbody tr th:only-of-type {\n",
       "        vertical-align: middle;\n",
       "    }\n",
       "\n",
       "    .dataframe tbody tr th {\n",
       "        vertical-align: top;\n",
       "    }\n",
       "\n",
       "    .dataframe thead th {\n",
       "        text-align: right;\n",
       "    }\n",
       "</style>\n",
       "<table border=\"1\" class=\"dataframe\">\n",
       "  <thead>\n",
       "    <tr style=\"text-align: right;\">\n",
       "      <th></th>\n",
       "      <th>alpha</th>\n",
       "      <th>beta</th>\n",
       "      <th>delta</th>\n",
       "      <th>gamma</th>\n",
       "      <th>0</th>\n",
       "      <th>1</th>\n",
       "      <th>2</th>\n",
       "      <th>3</th>\n",
       "      <th>4</th>\n",
       "    </tr>\n",
       "  </thead>\n",
       "  <tbody>\n",
       "    <tr>\n",
       "      <td>0</td>\n",
       "      <td>0.0</td>\n",
       "      <td>a</td>\n",
       "      <td>90.0</td>\n",
       "      <td>NaN</td>\n",
       "      <td>NaN</td>\n",
       "      <td>NaN</td>\n",
       "      <td>NaN</td>\n",
       "      <td>NaN</td>\n",
       "      <td>NaN</td>\n",
       "    </tr>\n",
       "    <tr>\n",
       "      <td>1</td>\n",
       "      <td>1.0</td>\n",
       "      <td>b</td>\n",
       "      <td>80.0</td>\n",
       "      <td>NaN</td>\n",
       "      <td>NaN</td>\n",
       "      <td>NaN</td>\n",
       "      <td>NaN</td>\n",
       "      <td>NaN</td>\n",
       "      <td>NaN</td>\n",
       "    </tr>\n",
       "    <tr>\n",
       "      <td>2</td>\n",
       "      <td>2.0</td>\n",
       "      <td>c</td>\n",
       "      <td>70.0</td>\n",
       "      <td>NaN</td>\n",
       "      <td>NaN</td>\n",
       "      <td>NaN</td>\n",
       "      <td>NaN</td>\n",
       "      <td>NaN</td>\n",
       "      <td>NaN</td>\n",
       "    </tr>\n",
       "    <tr>\n",
       "      <td>3</td>\n",
       "      <td>3.0</td>\n",
       "      <td>d</td>\n",
       "      <td>60.0</td>\n",
       "      <td>NaN</td>\n",
       "      <td>NaN</td>\n",
       "      <td>NaN</td>\n",
       "      <td>NaN</td>\n",
       "      <td>NaN</td>\n",
       "      <td>NaN</td>\n",
       "    </tr>\n",
       "    <tr>\n",
       "      <td>4</td>\n",
       "      <td>4.0</td>\n",
       "      <td>e</td>\n",
       "      <td>50.0</td>\n",
       "      <td>NaN</td>\n",
       "      <td>NaN</td>\n",
       "      <td>NaN</td>\n",
       "      <td>NaN</td>\n",
       "      <td>NaN</td>\n",
       "      <td>NaN</td>\n",
       "    </tr>\n",
       "    <tr>\n",
       "      <td>5</td>\n",
       "      <td>NaN</td>\n",
       "      <td>NaN</td>\n",
       "      <td>3.0</td>\n",
       "      <td>three</td>\n",
       "      <td>NaN</td>\n",
       "      <td>NaN</td>\n",
       "      <td>NaN</td>\n",
       "      <td>NaN</td>\n",
       "      <td>NaN</td>\n",
       "    </tr>\n",
       "    <tr>\n",
       "      <td>6</td>\n",
       "      <td>NaN</td>\n",
       "      <td>NaN</td>\n",
       "      <td>6.0</td>\n",
       "      <td>six</td>\n",
       "      <td>NaN</td>\n",
       "      <td>NaN</td>\n",
       "      <td>NaN</td>\n",
       "      <td>NaN</td>\n",
       "      <td>NaN</td>\n",
       "    </tr>\n",
       "    <tr>\n",
       "      <td>7</td>\n",
       "      <td>NaN</td>\n",
       "      <td>NaN</td>\n",
       "      <td>9.0</td>\n",
       "      <td>nine</td>\n",
       "      <td>NaN</td>\n",
       "      <td>NaN</td>\n",
       "      <td>NaN</td>\n",
       "      <td>NaN</td>\n",
       "      <td>NaN</td>\n",
       "    </tr>\n",
       "    <tr>\n",
       "      <td>8</td>\n",
       "      <td>NaN</td>\n",
       "      <td>NaN</td>\n",
       "      <td>12.0</td>\n",
       "      <td>twelve</td>\n",
       "      <td>NaN</td>\n",
       "      <td>NaN</td>\n",
       "      <td>NaN</td>\n",
       "      <td>NaN</td>\n",
       "      <td>NaN</td>\n",
       "    </tr>\n",
       "    <tr>\n",
       "      <td>9</td>\n",
       "      <td>NaN</td>\n",
       "      <td>NaN</td>\n",
       "      <td>15.0</td>\n",
       "      <td>fifteen</td>\n",
       "      <td>NaN</td>\n",
       "      <td>NaN</td>\n",
       "      <td>NaN</td>\n",
       "      <td>NaN</td>\n",
       "      <td>NaN</td>\n",
       "    </tr>\n",
       "    <tr>\n",
       "      <td>10</td>\n",
       "      <td>NaN</td>\n",
       "      <td>NaN</td>\n",
       "      <td>NaN</td>\n",
       "      <td>NaN</td>\n",
       "      <td>0.0</td>\n",
       "      <td>0.0</td>\n",
       "      <td>0.0</td>\n",
       "      <td>0.0</td>\n",
       "      <td>0.0</td>\n",
       "    </tr>\n",
       "  </tbody>\n",
       "</table>\n",
       "</div>"
      ],
      "text/plain": [
       "    alpha beta  delta    gamma    0    1    2    3    4\n",
       "0     0.0    a   90.0      NaN  NaN  NaN  NaN  NaN  NaN\n",
       "1     1.0    b   80.0      NaN  NaN  NaN  NaN  NaN  NaN\n",
       "2     2.0    c   70.0      NaN  NaN  NaN  NaN  NaN  NaN\n",
       "3     3.0    d   60.0      NaN  NaN  NaN  NaN  NaN  NaN\n",
       "4     4.0    e   50.0      NaN  NaN  NaN  NaN  NaN  NaN\n",
       "5     NaN  NaN    3.0    three  NaN  NaN  NaN  NaN  NaN\n",
       "6     NaN  NaN    6.0      six  NaN  NaN  NaN  NaN  NaN\n",
       "7     NaN  NaN    9.0     nine  NaN  NaN  NaN  NaN  NaN\n",
       "8     NaN  NaN   12.0   twelve  NaN  NaN  NaN  NaN  NaN\n",
       "9     NaN  NaN   15.0  fifteen  NaN  NaN  NaN  NaN  NaN\n",
       "10    NaN  NaN    NaN      NaN  0.0  0.0  0.0  0.0  0.0"
      ]
     },
     "execution_count": 61,
     "metadata": {},
     "output_type": "execute_result"
    }
   ],
   "source": [
    "randos = pd.DataFrame(np.random.randint(0,100,size=(5, 5)), columns=list('ABCDE'))\n",
    "randos\n",
    "\n",
    "ones = pd.DataFrame(np.ones((5, 10)))\n",
    "ones\n",
    "\n",
    "## to append df2 at the end of df1 dataframe\n",
    "appended_df = df1.append(df2, ignore_index = True)\n",
    "appended_df\n",
    "\n",
    "zeroseries = pd.Series([0,0,0,0,0])\n",
    "append_again = appended_df.append(zeroseries, ignore_index = True)\n",
    "append_again"
   ]
  },
  {
   "cell_type": "markdown",
   "metadata": {},
   "source": [
    "## Grouping\n",
    "\n",
    "Demonstrate a `groupby`.\n",
    "\n",
    "+ Create a new column with the label \"region\" in the iris data frame. This column will indicates geographic regions of the US where measurments were taken. Values should include:  'Southeast', 'Northeast', 'Midwest', 'Southwest', 'Northwest'. Use these randomly.\n",
    "+ Use `groupby` to get a new data frame of means for each species in each region.\n",
    "+ Add a `dev_stage` column by randomly selecting from the values \"early\" and \"late\".\n",
    "+ Use `groupby` to get a new data frame of means for each species,in each region and each development stage.\n",
    "+ Use the `count` function (just like you used the `mean` function) to identify how many rows in the table belong to each combination of species + region + developmental stage."
   ]
  },
  {
   "cell_type": "code",
   "execution_count": 62,
   "metadata": {},
   "outputs": [
    {
     "data": {
      "text/html": [
       "<div>\n",
       "<style scoped>\n",
       "    .dataframe tbody tr th:only-of-type {\n",
       "        vertical-align: middle;\n",
       "    }\n",
       "\n",
       "    .dataframe tbody tr th {\n",
       "        vertical-align: top;\n",
       "    }\n",
       "\n",
       "    .dataframe thead th {\n",
       "        text-align: right;\n",
       "    }\n",
       "</style>\n",
       "<table border=\"1\" class=\"dataframe\">\n",
       "  <thead>\n",
       "    <tr style=\"text-align: right;\">\n",
       "      <th></th>\n",
       "      <th></th>\n",
       "      <th>sepal_length</th>\n",
       "      <th>sepal_width</th>\n",
       "      <th>petal_length</th>\n",
       "      <th>petal_width</th>\n",
       "      <th>region</th>\n",
       "    </tr>\n",
       "    <tr>\n",
       "      <th>species</th>\n",
       "      <th>dev_stage</th>\n",
       "      <th></th>\n",
       "      <th></th>\n",
       "      <th></th>\n",
       "      <th></th>\n",
       "      <th></th>\n",
       "    </tr>\n",
       "  </thead>\n",
       "  <tbody>\n",
       "    <tr>\n",
       "      <td rowspan=\"2\" valign=\"top\">setosa</td>\n",
       "      <td>early</td>\n",
       "      <td>21</td>\n",
       "      <td>21</td>\n",
       "      <td>21</td>\n",
       "      <td>21</td>\n",
       "      <td>21</td>\n",
       "    </tr>\n",
       "    <tr>\n",
       "      <td>late</td>\n",
       "      <td>29</td>\n",
       "      <td>29</td>\n",
       "      <td>29</td>\n",
       "      <td>29</td>\n",
       "      <td>29</td>\n",
       "    </tr>\n",
       "    <tr>\n",
       "      <td rowspan=\"2\" valign=\"top\">versicolor</td>\n",
       "      <td>early</td>\n",
       "      <td>27</td>\n",
       "      <td>27</td>\n",
       "      <td>27</td>\n",
       "      <td>27</td>\n",
       "      <td>27</td>\n",
       "    </tr>\n",
       "    <tr>\n",
       "      <td>late</td>\n",
       "      <td>23</td>\n",
       "      <td>23</td>\n",
       "      <td>23</td>\n",
       "      <td>23</td>\n",
       "      <td>23</td>\n",
       "    </tr>\n",
       "    <tr>\n",
       "      <td rowspan=\"2\" valign=\"top\">virginica</td>\n",
       "      <td>early</td>\n",
       "      <td>32</td>\n",
       "      <td>32</td>\n",
       "      <td>32</td>\n",
       "      <td>32</td>\n",
       "      <td>32</td>\n",
       "    </tr>\n",
       "    <tr>\n",
       "      <td>late</td>\n",
       "      <td>18</td>\n",
       "      <td>18</td>\n",
       "      <td>18</td>\n",
       "      <td>18</td>\n",
       "      <td>18</td>\n",
       "    </tr>\n",
       "  </tbody>\n",
       "</table>\n",
       "</div>"
      ],
      "text/plain": [
       "                      sepal_length  sepal_width  petal_length  petal_width  \\\n",
       "species    dev_stage                                                         \n",
       "setosa     early                21           21            21           21   \n",
       "           late                 29           29            29           29   \n",
       "versicolor early                27           27            27           27   \n",
       "           late                 23           23            23           23   \n",
       "virginica  early                32           32            32           32   \n",
       "           late                 18           18            18           18   \n",
       "\n",
       "                      region  \n",
       "species    dev_stage          \n",
       "setosa     early          21  \n",
       "           late           29  \n",
       "versicolor early          27  \n",
       "           late           23  \n",
       "virginica  early          32  \n",
       "           late           18  "
      ]
     },
     "execution_count": 62,
     "metadata": {},
     "output_type": "execute_result"
    }
   ],
   "source": [
    "iris_df['region']=np.random.choice(['Northeast', 'Midwest', 'Southwest', 'Northwest'], iris_df.shape[0])\n",
    "\n",
    "groups = iris_df.groupby(['region'])\n",
    "groups.mean()\n",
    "\n",
    "iris_df['dev_stage'] = np.random.choice(['early', 'late'], iris_df.shape[0])\n",
    "groups = iris_df.groupby(['species', 'dev_stage'])\n",
    "groups.count()"
   ]
  },
  {
   "cell_type": "code",
   "execution_count": null,
   "metadata": {},
   "outputs": [],
   "source": []
  },
  {
   "cell_type": "code",
   "execution_count": null,
   "metadata": {},
   "outputs": [],
   "source": [
    "\n",
    "\n",
    "\n"
   ]
  }
 ],
 "metadata": {
  "kernelspec": {
   "display_name": "Python 3",
   "language": "python",
   "name": "python3"
  },
  "language_info": {
   "codemirror_mode": {
    "name": "ipython",
    "version": 3
   },
   "file_extension": ".py",
   "mimetype": "text/x-python",
   "name": "python",
   "nbconvert_exporter": "python",
   "pygments_lexer": "ipython3",
   "version": "3.7.4"
  }
 },
 "nbformat": 4,
 "nbformat_minor": 2
}
