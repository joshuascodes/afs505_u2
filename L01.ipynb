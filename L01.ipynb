{
 "cells": [
  {
   "cell_type": "markdown",
   "metadata": {},
   "source": [
    "# Lesson 1 Practice: NumPy Part 1\n",
    "Use this notebook to follow along with the lesson in the corresponding lesson notebook: [L01-Numpy_Part1-Lesson.ipynb](./L01-Numpy_Part1-Lesson.ipynb).  \n",
    "\n"
   ]
  },
  {
   "cell_type": "markdown",
   "metadata": {},
   "source": [
    "## Instructions\n",
    "Follow along with the teaching material in the lesson. Throughout the tutorial sections labeled as \"Tasks\" are interspersed and indicated with the icon: ![Task](http://icons.iconarchive.com/icons/sbstnblnd/plateau/16/Apps-gnome-info-icon.png). You should follow the instructions provided in these sections by performing them in the practice notebook.  When the tutorial is completed you can turn in the final practice notebook. For each task, use the cell below it to write and test your code.  You may add additional cells for any task as needed or desired.  "
   ]
  },
  {
   "cell_type": "markdown",
   "metadata": {},
   "source": [
    "## Task 1a: Setup\n",
    "\n",
    "In the practice notebook, import the following packages:\n",
    "+ `numpy` as `np`"
   ]
  },
  {
   "cell_type": "code",
   "execution_count": 1,
   "metadata": {},
   "outputs": [],
   "source": [
    "import numpy as np"
   ]
  },
  {
   "cell_type": "markdown",
   "metadata": {},
   "source": [
    "## Task 2a: Creating Arrays\n",
    "\n",
    "In the practice notebook, perform the following.  \n",
    "- Create a 1-dimensional numpy array and print it.\n",
    "- Create a 2-dimensional numpy array and print it.\n",
    "- Create a 3-dimensional numpy array and print it."
   ]
  },
  {
   "cell_type": "code",
   "execution_count": 12,
   "metadata": {},
   "outputs": [
    {
     "name": "stdout",
     "output_type": "stream",
     "text": [
      "[1 2 3 4]\n",
      "[[1 1 1 1]\n",
      " [2 2 2 2]]\n",
      "[[[1 1]\n",
      "  [2 2]\n",
      "  [3 3]]]\n"
     ]
    }
   ],
   "source": [
    "array1d = np.array([1,2,3,4])\n",
    "print(array1d)\n",
    "\n",
    "array2d = np.array([[1,1,1,1], [2,2,2,2]])\n",
    "print(array2d)\n",
    "\n",
    "array3d = np.array([[[1,1],[2,2],[3,3]]])\n",
    "print(array3d)"
   ]
  },
  {
   "cell_type": "markdown",
   "metadata": {},
   "source": [
    "## Task 3a: Accessing Array Attributes\n",
    "\n",
    "In the practice notebook, perform the following.\n",
    "\n",
    "- Create a NumPy array.\n",
    "- Write code that prints these attributes (one per line): `ndim`, `shape`, `size`, `dtype`, `itemsize`, `data`, `nbytes`.\n",
    "- Add a comment line, before each line describing what value the attribute returns. \n"
   ]
  },
  {
   "cell_type": "code",
   "execution_count": 26,
   "metadata": {},
   "outputs": [
    {
     "name": "stdout",
     "output_type": "stream",
     "text": [
      "1\n",
      "(3,)\n",
      "3\n",
      "int32\n",
      "4\n",
      "<memory at 0x00000222B8681588>\n",
      "12\n"
     ]
    }
   ],
   "source": [
    "fun_array = np.array([1,3,5])\n",
    "#Dimmensions .ndim\n",
    "print(fun_array.ndim)\n",
    "\n",
    "print(fun_array.shape)\n",
    "\n",
    "#amount of elements .size\n",
    "print(fun_array.size)\n",
    "\n",
    "#prints the type of elements in the array .dtype\n",
    "print(fun_array.dtype)\n",
    "\n",
    "print(fun_array.itemsize)\n",
    "\n",
    "print(fun_array.data)\n",
    "\n",
    "#the amount of bytes used .nbytes\n",
    "print(fun_array.nbytes)\n"
   ]
  },
  {
   "cell_type": "markdown",
   "metadata": {},
   "source": [
    "## Task 4a: Initializing Arrays\n",
    "\n",
    "In the practice notebook, perform the following.\n",
    "\n",
    "+ Create an initialized array by using these functions:  `ones`, `zeros`, `empty`, `full`, `arange`, `linspace` and `random.random`. Be sure to follow each array creation with a call to `print()` to display your newly created arrays. \n",
    "+ Add a comment above each function call describing what is being done.  "
   ]
  },
  {
   "cell_type": "code",
   "execution_count": 65,
   "metadata": {},
   "outputs": [
    {
     "name": "stdout",
     "output_type": "stream",
     "text": [
      "[[1. 1. 1. 1. 1. 1.]\n",
      " [1. 1. 1. 1. 1. 1.]]\n",
      "[[0. 0.]\n",
      " [0. 0.]]\n",
      "<built-in function empty>\n",
      "[[inf inf inf inf inf]\n",
      " [inf inf inf inf inf]\n",
      " [inf inf inf inf inf]\n",
      " [inf inf inf inf inf]\n",
      " [inf inf inf inf inf]\n",
      " [inf inf inf inf inf]\n",
      " [inf inf inf inf inf]\n",
      " [inf inf inf inf inf]\n",
      " [inf inf inf inf inf]\n",
      " [inf inf inf inf inf]]\n",
      "[ 0  1  2  3  4  5  6  7  8  9 10]\n",
      "[0 1 2 3]\n",
      "[ 0.          1.11111111  2.22222222  3.33333333  4.44444444  5.55555556\n",
      "  6.66666667  7.77777778  8.88888889 10.        ]\n",
      "[[0.26256579 2.42276408 7.25832335 0.60968948]\n",
      " [8.00469297 6.85881968 9.18283092 0.02399943]\n",
      " [8.5485416  0.60970653 6.87954738 7.3394503 ]\n",
      " [8.17504012 5.22420496 4.84056632 1.56259877]\n",
      " [2.19722396 8.89084028 0.38122773 5.95332406]]\n"
     ]
    }
   ],
   "source": [
    "# creats an 2x6 array filled with 1's.\n",
    "arrayof1s = np.ones((2,6))\n",
    "print(arrayof1s)\n",
    "\n",
    "##Create an array of zeros that is size 2x2.\n",
    "arrayzeros = np.zeros((2,2))\n",
    "print(arrayzeros)\n",
    "\n",
    "#Still doesn't show the dimmensions.\n",
    "arrayempty =np.empty((10,10))\n",
    "print(np.empty)\n",
    "\n",
    "#fill array with with a specified values. Idk if you can do strings.\n",
    "arrayfilled = np.full((10, 5), np.inf)\n",
    "print(arrayfilled)\n",
    "\n",
    "#Returns a new array of evenly spaced values within a given interval\n",
    "#arange uses the interval distance as 1 unless otherwise specified\n",
    "arrayarange = np.arange(0,11)\n",
    "print(arrayarange)\n",
    "\n",
    "Arangarray = np.arange(4)\n",
    "print(Arangarray)\n",
    "\n",
    "\n",
    "#np.linspace(): Returns a new array of evenly spaced numbers over a specified interval\n",
    "arraylinspace = np.linspace(0,10, 10)\n",
    "print(arraylinspace)\n",
    "\n",
    "#return a single random value or an array of random values between 0 and 1. *10 at the end to make larger values\n",
    "randoarray = np.random.random((5,4))*10\n",
    "print(randoarray)"
   ]
  },
  {
   "cell_type": "markdown",
   "metadata": {},
   "source": [
    "## Task 5a:  Broadcasting Arrays\n",
    "\n",
    "In the practice notebook, perform the following.\n",
    "\n",
    "+ Create two arrays of differing sizes but compatible with broadcasting.\n",
    "+ Perform addition, multiplication and subtraction.\n",
    "+ Create two additional arrays of differing size that do not meet the rules for broadcasting and try a mathematical operation.  "
   ]
  },
  {
   "cell_type": "code",
   "execution_count": 98,
   "metadata": {},
   "outputs": [
    {
     "name": "stdout",
     "output_type": "stream",
     "text": [
      "[[1.10439211 1.40532582 1.38207728 1.82519165]\n",
      " [1.10439211 1.40532582 1.38207728 1.82519165]\n",
      " [1.10439211 1.40532582 1.38207728 1.82519165]\n",
      " [1.10439211 1.40532582 1.38207728 1.82519165]]\n",
      "[0.]\n",
      "[[1. 1. 1.]\n",
      " [1. 1. 1.]\n",
      " [1. 1. 1.]]\n"
     ]
    }
   ],
   "source": [
    "arrayone = np.ones((4,4))\n",
    "arraytwo = np.random.random((1,4))\n",
    "result = arrayone + arraytwo\n",
    "print(result)\n",
    "\n",
    "\n",
    "arraybad = np.ones((3,3))\n",
    "arrayworse = np.linspace(0,10,1)\n",
    "#Confused why linspace is making it look like this\n",
    "np.shape(arrayworse)\n",
    "badresult = arraybad + arrayworse\n",
    "print(arrayworse)\n",
    "print(badresult)"
   ]
  },
  {
   "cell_type": "markdown",
   "metadata": {},
   "source": [
    "## Task 6a: Math/Stats Aggregate Functions\n",
    "\n",
    "In the practice notebook, perform the following.\n",
    "\n",
    "+ Create three to five arrays\n",
    "+ Experiment with each of the aggregation functions: `sum`, `minimum`, `maximum`, `cumsum`, `mean`, `np.corrcoef`, `np.std`, `np.var`. \n",
    "+ For each function call, add a comment line above it that describes what it does.  \n",
    "```\n"
   ]
  },
  {
   "cell_type": "code",
   "execution_count": 143,
   "metadata": {},
   "outputs": [
    {
     "name": "stdout",
     "output_type": "stream",
     "text": [
      "100\n",
      "198.83269582706953\n",
      "randoos\n",
      "[[2.81707165 0.43413497 7.58743145 0.33942385 5.10000874]\n",
      " [1.49802933 3.50501785 6.00415907 8.21444914 5.24541947]\n",
      " [9.50104392 4.61610765 4.03983061 0.01442253 1.6379994 ]\n",
      " [6.76607424 1.16320553 3.18796171 4.77506448 5.13103462]\n",
      " [4.64631659 6.09224095 0.80719811 1.72149265 3.98755732]]\n",
      "3.9533078330827816\n",
      "[ 2.81707165  3.25120662 10.83863807 11.17806192 16.27807066 17.77609999\n",
      " 21.28111784 27.28527692 35.49972606 40.74514552 50.24618945 54.8622971\n",
      " 58.90212771 58.91655023 60.55454963 67.32062387 68.4838294  71.67179111\n",
      " 76.44685559 81.57789021 86.2242068  92.31644775 93.12364586 94.84513851\n",
      " 98.83269583]\n",
      "2.5447930009658695\n",
      "1.0\n",
      "0.0\n",
      "[[ 1. -1. -1. -1.]\n",
      " [-1.  1.  1.  1.]\n",
      " [-1.  1.  1.  1.]\n",
      " [-1.  1.  1.  1.]]\n"
     ]
    },
    {
     "data": {
      "text/plain": [
       "array([[ 24.5, -21. , -10.5, -35. ],\n",
       "       [-21. ,  18. ,   9. ,  30. ],\n",
       "       [-10.5,   9. ,   4.5,  15. ],\n",
       "       [-35. ,  30. ,  15. ,  50. ]])"
      ]
     },
     "execution_count": 143,
     "metadata": {},
     "output_type": "execute_result"
    }
   ],
   "source": [
    "filler =np.full((5,5), 4)\n",
    "randos = np.random.random((5,5))*10\n",
    "oness = np.ones((6,6))\n",
    "\n",
    "print(np.sum(filler))\n",
    "print(np.sum(filler+randos)) \n",
    "\n",
    "print(\"randoos\")\n",
    "print(randos)\n",
    "print(np.mean(randos))\n",
    "print(np.cumsum(randos))\n",
    "print(np.std(randos))\n",
    "\n",
    "\n",
    "print(np.mean(oness))\n",
    "print(np.std(oness))\n",
    "\n",
    "z = np.corrcoef(funx, funy)\n",
    "print(z)\n",
    "\n",
    "## This is the the co-variance function\n",
    "\n",
    "funx = np.array([[10, 3], [2,8]])\n",
    "funx\n",
    "funy = np.array([[5, 8], [3,13]])\n",
    "funy\n",
    "xy = np.stack((funx, funy), axis = 0)\n",
    "np.cov(funx, funy)"
   ]
  },
  {
   "cell_type": "markdown",
   "metadata": {},
   "source": [
    "## Task 6b: Logical Aggregate Functions\n",
    "\n",
    "In the practice notebook, perform the following.\n",
    "\n",
    "+ Create two arrays containing boolean values.\n",
    "+ Experiment with each of the aggregation functions: `logical_and`, `logical_or`, `logical_not`. \n",
    "+ For each function call, add a comment line above it that describes what it does.  \n",
    "```"
   ]
  },
  {
   "cell_type": "code",
   "execution_count": 183,
   "metadata": {},
   "outputs": [
    {
     "data": {
      "text/plain": [
       "array([ True,  True,  True,  True])"
      ]
     },
     "execution_count": 183,
     "metadata": {},
     "output_type": "execute_result"
    }
   ],
   "source": [
    "booleanarray = [True, True, False, False]\n",
    "b = [False, False, True, True]\n",
    "np.ndim(booleanarray)\n",
    "c=[1,1,1,1]\n",
    "## don't really see why they return these values\n",
    "\n",
    "np.logical_and(booleanarray, b)\n",
    "np.logical_or(c, booleanarray)"
   ]
  },
  {
   "cell_type": "code",
   "execution_count": 184,
   "metadata": {},
   "outputs": [
    {
     "data": {
      "text/plain": [
       "array([False, False, False, False])"
      ]
     },
     "execution_count": 184,
     "metadata": {},
     "output_type": "execute_result"
    }
   ],
   "source": [
    "coolarray = np.arange(35)\n",
    "print(coolarray)\n",
    "\n",
    "coolarray.shape = (7,5)\n",
    "coolarray\n",
    "\n",
    "\n",
    "\n",
    "\n",
    "\n",
    "\n",
    "coolarray[-2]\n",
    "row = 5\n",
    "column = 2\n",
    "coolarray[row, column]\n",
    "np.itemsize(coolarray)\n",
    "np.ndim(coolarray) # the literal dimmension 2d\n"
   ]
  }
 ],
 "metadata": {
  "kernelspec": {
   "display_name": "Python 3",
   "language": "python",
   "name": "python3"
  },
  "language_info": {
   "codemirror_mode": {
    "name": "ipython",
    "version": 3
   },
   "file_extension": ".py",
   "mimetype": "text/x-python",
   "name": "python",
   "nbconvert_exporter": "python",
   "pygments_lexer": "ipython3",
   "version": "3.7.4"
  }
 },
 "nbformat": 4,
 "nbformat_minor": 4
}
