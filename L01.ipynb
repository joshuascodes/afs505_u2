{
 "cells": [
  {
   "cell_type": "markdown",
   "metadata": {},
   "source": [
    "# Lesson 1 Practice: NumPy Part 1\n",
    "Use this notebook to follow along with the lesson in the corresponding lesson notebook: [L01-Numpy_Part1-Lesson.ipynb](./L01-Numpy_Part1-Lesson.ipynb).  \n",
    "\n"
   ]
  },
  {
   "cell_type": "markdown",
   "metadata": {},
   "source": [
    "## Instructions\n",
    "Follow along with the teaching material in the lesson. Throughout the tutorial sections labeled as \"Tasks\" are interspersed and indicated with the icon: ![Task](http://icons.iconarchive.com/icons/sbstnblnd/plateau/16/Apps-gnome-info-icon.png). You should follow the instructions provided in these sections by performing them in the practice notebook.  When the tutorial is completed you can turn in the final practice notebook. For each task, use the cell below it to write and test your code.  You may add additional cells for any task as needed or desired.  "
   ]
  },
  {
   "cell_type": "markdown",
   "metadata": {},
   "source": [
    "## Task 1a: Setup\n",
    "\n",
    "In the practice notebook, import the following packages:\n",
    "+ `numpy` as `np`"
   ]
  },
  {
   "cell_type": "code",
   "execution_count": 4,
   "metadata": {},
   "outputs": [],
   "source": [
    "import numpy as np"
   ]
  },
  {
   "cell_type": "markdown",
   "metadata": {},
   "source": [
    "## Task 2a: Creating Arrays\n",
    "\n",
    "In the practice notebook, perform the following.  \n",
    "- Create a 1-dimensional numpy array and print it.\n",
    "- Create a 2-dimensional numpy array and print it.\n",
    "- Create a 3-dimensional numpy array and print it."
   ]
  },
  {
   "cell_type": "code",
   "execution_count": 5,
   "metadata": {},
   "outputs": [
    {
     "name": "stdout",
     "output_type": "stream",
     "text": [
      "[1 2 3 4]\n",
      "[[1 1 1 1]\n",
      " [2 2 2 2]]\n",
      "[[[1 1]\n",
      "  [2 2]\n",
      "  [3 3]]]\n"
     ]
    }
   ],
   "source": [
    "array1d = np.array([1,2,3,4])\n",
    "print(array1d)\n",
    "\n",
    "array2d = np.array([[1,1,1,1], [2,2,2,2]])\n",
    "print(array2d)\n",
    "\n",
    "array3d = np.array([[[1,1],[2,2],[3,3]]])\n",
    "print(array3d)"
   ]
  },
  {
   "cell_type": "markdown",
   "metadata": {},
   "source": [
    "## Task 3a: Accessing Array Attributes\n",
    "\n",
    "In the practice notebook, perform the following.\n",
    "\n",
    "- Create a NumPy array.\n",
    "- Write code that prints these attributes (one per line): `ndim`, `shape`, `size`, `dtype`, `itemsize`, `data`, `nbytes`.\n",
    "- Add a comment line, before each line describing what value the attribute returns. \n"
   ]
  },
  {
   "cell_type": "code",
   "execution_count": 6,
   "metadata": {},
   "outputs": [
    {
     "name": "stdout",
     "output_type": "stream",
     "text": [
      "1\n",
      "(3,)\n",
      "3\n",
      "int32\n",
      "4\n",
      "<memory at 0x0000016008505948>\n",
      "12\n"
     ]
    }
   ],
   "source": [
    "fun_array = np.array([1,3,5])\n",
    "#Dimmensions .ndim\n",
    "print(fun_array.ndim)\n",
    "\n",
    "print(fun_array.shape)\n",
    "\n",
    "#amount of elements .size\n",
    "print(fun_array.size)\n",
    "\n",
    "#prints the type of elements in the array .dtype\n",
    "print(fun_array.dtype)\n",
    "\n",
    "print(fun_array.itemsize)\n",
    "\n",
    "print(fun_array.data)\n",
    "\n",
    "#the amount of bytes used .nbytes\n",
    "print(fun_array.nbytes)\n"
   ]
  },
  {
   "cell_type": "markdown",
   "metadata": {},
   "source": [
    "## Task 4a: Initializing Arrays\n",
    "\n",
    "In the practice notebook, perform the following.\n",
    "\n",
    "+ Create an initialized array by using these functions:  `ones`, `zeros`, `empty`, `full`, `arange`, `linspace` and `random.random`. Be sure to follow each array creation with a call to `print()` to display your newly created arrays. \n",
    "+ Add a comment above each function call describing what is being done.  "
   ]
  },
  {
   "cell_type": "code",
   "execution_count": 7,
   "metadata": {},
   "outputs": [
    {
     "name": "stdout",
     "output_type": "stream",
     "text": [
      "[[1. 1. 1. 1. 1. 1.]\n",
      " [1. 1. 1. 1. 1. 1.]]\n",
      "[[0. 0.]\n",
      " [0. 0.]]\n",
      "<built-in function empty>\n",
      "[[inf inf inf inf inf]\n",
      " [inf inf inf inf inf]\n",
      " [inf inf inf inf inf]\n",
      " [inf inf inf inf inf]\n",
      " [inf inf inf inf inf]\n",
      " [inf inf inf inf inf]\n",
      " [inf inf inf inf inf]\n",
      " [inf inf inf inf inf]\n",
      " [inf inf inf inf inf]\n",
      " [inf inf inf inf inf]]\n",
      "[ 0  1  2  3  4  5  6  7  8  9 10]\n",
      "[0 1 2 3]\n",
      "[ 0.          1.11111111  2.22222222  3.33333333  4.44444444  5.55555556\n",
      "  6.66666667  7.77777778  8.88888889 10.        ]\n",
      "[[8.90146993 4.98474275 6.78499712 5.89464562]\n",
      " [0.87369422 6.97372963 2.93819046 3.86909232]\n",
      " [4.4952136  6.3456257  2.91711375 2.10289488]\n",
      " [3.35631887 0.79234209 0.52057739 8.29776273]\n",
      " [0.43079096 2.28506504 1.64968981 3.70452959]]\n"
     ]
    }
   ],
   "source": [
    "# creats an 2x6 array filled with 1's.\n",
    "arrayof1s = np.ones((2,6))\n",
    "print(arrayof1s)\n",
    "\n",
    "##Create an array of zeros that is size 2x2.\n",
    "arrayzeros = np.zeros((2,2))\n",
    "print(arrayzeros)\n",
    "\n",
    "#Still doesn't show the dimmensions.\n",
    "arrayempty =np.empty((10,10))\n",
    "print(np.empty)\n",
    "\n",
    "#fill array with with a specified values. Idk if you can do strings.\n",
    "arrayfilled = np.full((10, 5), np.inf)\n",
    "print(arrayfilled)\n",
    "\n",
    "#Returns a new array of evenly spaced values within a given interval\n",
    "#arange uses the interval distance as 1 unless otherwise specified\n",
    "arrayarange = np.arange(0,11)\n",
    "print(arrayarange)\n",
    "\n",
    "Arangarray = np.arange(4)\n",
    "print(Arangarray)\n",
    "\n",
    "\n",
    "#np.linspace(): Returns a new array of evenly spaced numbers over a specified interval\n",
    "arraylinspace = np.linspace(0,10, 10)\n",
    "print(arraylinspace)\n",
    "\n",
    "#return a single random value or an array of random values between 0 and 1. *10 at the end to make larger values\n",
    "randoarray = np.random.random((5,4))*10\n",
    "print(randoarray)"
   ]
  },
  {
   "cell_type": "markdown",
   "metadata": {},
   "source": [
    "## Task 5a:  Broadcasting Arrays\n",
    "\n",
    "In the practice notebook, perform the following.\n",
    "\n",
    "+ Create two arrays of differing sizes but compatible with broadcasting.\n",
    "+ Perform addition, multiplication and subtraction.\n",
    "+ Create two additional arrays of differing size that do not meet the rules for broadcasting and try a mathematical operation.  "
   ]
  },
  {
   "cell_type": "code",
   "execution_count": 8,
   "metadata": {},
   "outputs": [
    {
     "name": "stdout",
     "output_type": "stream",
     "text": [
      "[[1.16958129 1.8918607  1.12550842 1.80124447]\n",
      " [1.16958129 1.8918607  1.12550842 1.80124447]\n",
      " [1.16958129 1.8918607  1.12550842 1.80124447]\n",
      " [1.16958129 1.8918607  1.12550842 1.80124447]]\n",
      "[0.]\n",
      "[[1. 1. 1.]\n",
      " [1. 1. 1.]\n",
      " [1. 1. 1.]]\n"
     ]
    }
   ],
   "source": [
    "arrayone = np.ones((4,4))\n",
    "arraytwo = np.random.random((1,4))\n",
    "result = arrayone + arraytwo\n",
    "print(result)\n",
    "\n",
    "\n",
    "arraybad = np.ones((3,3))\n",
    "arrayworse = np.linspace(0,10,1)\n",
    "#Confused why linspace is making it look like this\n",
    "np.shape(arrayworse)\n",
    "badresult = arraybad + arrayworse\n",
    "print(arrayworse)\n",
    "print(badresult)"
   ]
  },
  {
   "cell_type": "markdown",
   "metadata": {},
   "source": [
    "## Task 6a: Math/Stats Aggregate Functions\n",
    "\n",
    "In the practice notebook, perform the following.\n",
    "\n",
    "+ Create three to five arrays\n",
    "+ Experiment with each of the aggregation functions: `sum`, `minimum`, `maximum`, `cumsum`, `mean`, `np.corrcoef`, `np.std`, `np.var`. \n",
    "+ For each function call, add a comment line above it that describes what it does.  \n",
    "```\n"
   ]
  },
  {
   "cell_type": "code",
   "execution_count": 9,
   "metadata": {},
   "outputs": [
    {
     "name": "stdout",
     "output_type": "stream",
     "text": [
      "100\n",
      "200.7614723955444\n",
      "randoos\n",
      "[[6.41091442 3.4351737  0.59703482 2.08622638 8.45222937]\n",
      " [0.73646478 4.93943014 3.26294826 4.74883743 0.07003386]\n",
      " [7.74350372 0.41839122 0.29255694 9.50702282 8.56885984]\n",
      " [2.10691407 4.21290517 2.70779272 5.77262776 2.58368783]\n",
      " [5.96330533 3.16754095 4.26998524 0.88244382 7.82464181]]\n",
      "4.030458895821775\n",
      "[  6.41091442   9.84608812  10.44312294  12.52934932  20.98157869\n",
      "  21.71804347  26.65747361  29.92042186  34.66925929  34.73929316\n",
      "  42.48279688  42.90118809  43.19374504  52.70076785  61.26962769\n",
      "  63.37654176  67.58944692  70.29723964  76.0698674   78.65355523\n",
      "  84.61686057  87.78440152  92.05438676  92.93683058 100.7614724 ]\n",
      "2.831666764590652\n",
      "1.0\n",
      "0.0\n"
     ]
    },
    {
     "ename": "NameError",
     "evalue": "name 'funx' is not defined",
     "output_type": "error",
     "traceback": [
      "\u001b[1;31m---------------------------------------------------------------------------\u001b[0m",
      "\u001b[1;31mNameError\u001b[0m                                 Traceback (most recent call last)",
      "\u001b[1;32m<ipython-input-9-ad594cf3d64e>\u001b[0m in \u001b[0;36m<module>\u001b[1;34m\u001b[0m\n\u001b[0;32m     16\u001b[0m \u001b[0mprint\u001b[0m\u001b[1;33m(\u001b[0m\u001b[0mnp\u001b[0m\u001b[1;33m.\u001b[0m\u001b[0mstd\u001b[0m\u001b[1;33m(\u001b[0m\u001b[0moness\u001b[0m\u001b[1;33m)\u001b[0m\u001b[1;33m)\u001b[0m\u001b[1;33m\u001b[0m\u001b[1;33m\u001b[0m\u001b[0m\n\u001b[0;32m     17\u001b[0m \u001b[1;33m\u001b[0m\u001b[0m\n\u001b[1;32m---> 18\u001b[1;33m \u001b[0mz\u001b[0m \u001b[1;33m=\u001b[0m \u001b[0mnp\u001b[0m\u001b[1;33m.\u001b[0m\u001b[0mcorrcoef\u001b[0m\u001b[1;33m(\u001b[0m\u001b[0mfunx\u001b[0m\u001b[1;33m,\u001b[0m \u001b[0mfuny\u001b[0m\u001b[1;33m)\u001b[0m\u001b[1;33m\u001b[0m\u001b[1;33m\u001b[0m\u001b[0m\n\u001b[0m\u001b[0;32m     19\u001b[0m \u001b[0mprint\u001b[0m\u001b[1;33m(\u001b[0m\u001b[0mz\u001b[0m\u001b[1;33m)\u001b[0m\u001b[1;33m\u001b[0m\u001b[1;33m\u001b[0m\u001b[0m\n\u001b[0;32m     20\u001b[0m \u001b[1;33m\u001b[0m\u001b[0m\n",
      "\u001b[1;31mNameError\u001b[0m: name 'funx' is not defined"
     ]
    }
   ],
   "source": [
    "filler =np.full((5,5), 4)\n",
    "randos = np.random.random((5,5))*10\n",
    "oness = np.ones((6,6))\n",
    "\n",
    "print(np.sum(filler))\n",
    "print(np.sum(filler+randos)) \n",
    "\n",
    "print(\"randoos\")\n",
    "print(randos)\n",
    "print(np.mean(randos))\n",
    "print(np.cumsum(randos))\n",
    "print(np.std(randos))\n",
    "\n",
    "\n",
    "print(np.mean(oness))\n",
    "print(np.std(oness))\n",
    "\n",
    "z = np.corrcoef(funx, funy)\n",
    "print(z)\n",
    "\n",
    "## This is the the co-variance function\n",
    "\n",
    "funx = np.array([[10, 3], [2,8]])\n",
    "funx\n",
    "funy = np.array([[5, 8], [3,13]])\n",
    "funy\n",
    "xy = np.stack((funx, funy), axis = 0)\n",
    "np.cov(funx, funy)"
   ]
  },
  {
   "cell_type": "markdown",
   "metadata": {},
   "source": [
    "## Task 6b: Logical Aggregate Functions\n",
    "\n",
    "In the practice notebook, perform the following.\n",
    "\n",
    "+ Create two arrays containing boolean values.\n",
    "+ Experiment with each of the aggregation functions: `logical_and`, `logical_or`, `logical_not`. \n",
    "+ For each function call, add a comment line above it that describes what it does.  \n",
    "```"
   ]
  },
  {
   "cell_type": "code",
   "execution_count": 10,
   "metadata": {},
   "outputs": [
    {
     "data": {
      "text/plain": [
       "array([ True,  True,  True,  True])"
      ]
     },
     "execution_count": 10,
     "metadata": {},
     "output_type": "execute_result"
    }
   ],
   "source": [
    "booleanarray = [True, True, False, False]\n",
    "b = [False, False, True, True]\n",
    "np.ndim(booleanarray)\n",
    "c=[1,1,1,1]\n",
    "## don't really see why they return these values\n",
    "\n",
    "np.logical_and(booleanarray, b)\n",
    "np.logical_or(c, booleanarray)"
   ]
  },
  {
   "cell_type": "code",
   "execution_count": 12,
   "metadata": {},
   "outputs": [
    {
     "name": "stdout",
     "output_type": "stream",
     "text": [
      "[ 0  1  2  3  4  5  6  7  8  9 10 11 12 13 14 15 16 17 18 19 20 21 22 23\n",
      " 24 25 26 27 28 29 30 31 32 33 34]\n"
     ]
    },
    {
     "data": {
      "text/plain": [
       "2"
      ]
     },
     "execution_count": 12,
     "metadata": {},
     "output_type": "execute_result"
    }
   ],
   "source": [
    "coolarray = np.arange(35)\n",
    "print(coolarray)\n",
    "\n",
    "coolarray.shape = (7,5)\n",
    "coolarray\n",
    "\n",
    "\n",
    "\n",
    "\n",
    "\n",
    "\n",
    "coolarray[-2]\n",
    "row = 5\n",
    "column = 2\n",
    "coolarray[row, column]\n",
    "np.ndim(coolarray) # the literal dimmension 2d\n"
   ]
  },
  {
   "cell_type": "code",
   "execution_count": null,
   "metadata": {},
   "outputs": [],
   "source": []
  },
  {
   "cell_type": "code",
   "execution_count": null,
   "metadata": {},
   "outputs": [],
   "source": []
  },
  {
   "cell_type": "code",
   "execution_count": null,
   "metadata": {},
   "outputs": [],
   "source": []
  },
  {
   "cell_type": "code",
   "execution_count": null,
   "metadata": {},
   "outputs": [],
   "source": []
  },
  {
   "cell_type": "code",
   "execution_count": null,
   "metadata": {},
   "outputs": [],
   "source": []
  }
 ],
 "metadata": {
  "kernelspec": {
   "display_name": "Python 3",
   "language": "python",
   "name": "python3"
  },
  "language_info": {
   "codemirror_mode": {
    "name": "ipython",
    "version": 3
   },
   "file_extension": ".py",
   "mimetype": "text/x-python",
   "name": "python",
   "nbconvert_exporter": "python",
   "pygments_lexer": "ipython3",
   "version": "3.7.4"
  }
 },
 "nbformat": 4,
 "nbformat_minor": 4
}
